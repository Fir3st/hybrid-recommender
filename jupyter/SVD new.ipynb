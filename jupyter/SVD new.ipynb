{
 "cells": [
  {
   "cell_type": "code",
   "execution_count": 1,
   "metadata": {},
   "outputs": [],
   "source": [
    "import os\n",
    "import time\n",
    "import math as mt\n",
    "import numpy as np\n",
    "import pandas as pd\n",
    "import pickle\n",
    "from scipy.sparse import csr_matrix\n",
    "from scipy.sparse.linalg import svds"
   ]
  },
  {
   "cell_type": "code",
   "execution_count": 2,
   "metadata": {},
   "outputs": [],
   "source": [
    "class SVDModel:\n",
    "    def __init__(self):\n",
    "        self.n_users = 0\n",
    "        self.n_items = 0\n",
    "\n",
    "    def load_data(self):\n",
    "        data = pd.read_json('../data/ratings_data.json', orient='split')\n",
    "        self.n_users = data['userId'].unique().shape[0]\n",
    "        self.n_items = data['movieId'].unique().shape[0]\n",
    "        self.users = data['userId'].unique()\n",
    "        self.movies = data['movieId'].unique()\n",
    "        \n",
    "        data_matrix = pd.DataFrame(np.zeros((self.n_users, self.n_items)), columns=self.movies, index=self.users)\n",
    "        for line in data.itertuples():\n",
    "            data_matrix.at[line[4], line[1]] = line[2]\n",
    "            \n",
    "        return csr_matrix(data_matrix, dtype=np.float32)\n",
    "    \n",
    "    def _save_pickle_file(self, file_name, data):\n",
    "        file_name = f'./models/SVD/{file_name}.pickle'\n",
    "        mapping_file = open(file_name, 'wb')\n",
    "        pickle.dump(data, mapping_file)\n",
    "        mapping_file.close()  \n",
    "    \n",
    "    def save(self, U, sigma, Vt, data_mean):\n",
    "        if not os.path.exists('./models/SVD'):\n",
    "            os.makedirs('./models/SVD')\n",
    "        \n",
    "        self._save_pickle_file('u', U)\n",
    "        self._save_pickle_file('sigma', sigma)\n",
    "        self._save_pickle_file('vt', Vt)\n",
    "        self._save_pickle_file('data_mean', data_mean)\n",
    "    \n",
    "    def train(self, data, k):\n",
    "        data_mean = np.mean(data, axis=1)\n",
    "        data_demeaned = data - data_mean.reshape(-1, 1)\n",
    "        U, sigma, Vt = svds(data_demeaned, k=k)\n",
    "        sigma = np.diag(sigma)\n",
    "        \n",
    "        return U, sigma, Vt, data_mean"
   ]
  },
  {
   "cell_type": "code",
   "execution_count": 3,
   "metadata": {},
   "outputs": [],
   "source": [
    "class SVDRecommender:\n",
    "    def __init__(self):\n",
    "        self.U = SVDRecommender.load_pickle_file('./models/SVD/u')\n",
    "        self.sigma = SVDRecommender.load_pickle_file('./models/SVD/sigma')\n",
    "        self.Vt = SVDRecommender.load_pickle_file('./models/SVD/vt')\n",
    "        self.data_mean = SVDRecommender.load_pickle_file('./models/SVD/data_mean')\n",
    "        \n",
    "    @staticmethod\n",
    "    def load_pickle_file(file_name):\n",
    "        file = open(f'{file_name}.pickle', 'rb')\n",
    "        object_file = pickle.load(file)\n",
    "        return object_file\n",
    "    \n",
    "    def get_predicted_ratings(self):\n",
    "        data = pd.read_json('../data/ratings_data.json', orient='split')\n",
    "        users_movies = data[['movieId', 'userId']]\n",
    "        all_predicted_ratings = np.dot(np.dot(self.U, self.sigma), self.Vt) + self.data_mean.reshape(-1, 1)\n",
    "        ratings_df = pd.DataFrame(all_predicted_ratings, columns=data['movieId'].unique(), index=data['userId'].unique())\n",
    "        \n",
    "        return ratings_df, users_movies\n",
    "    \n",
    "    def recommend(self, user_id, n=10):\n",
    "        start = time.time()\n",
    "        \n",
    "        ratings_df, users_movies = self.get_predicted_ratings()\n",
    "        user_rated_movies = users_movies.loc[users_movies['userId'] == user_id]['movieId'].values\n",
    "        predicted_ratings = pd.DataFrame(ratings_df.loc[user_id])\n",
    "        predicted_ratings.columns = ['rating']\n",
    "        recommended_movies = predicted_ratings.drop(user_rated_movies).sort_values(['rating'], ascending=False).head(n)\n",
    "\n",
    "        end = time.time()\n",
    "        print(f'Finished in: {end - start}')\n",
    "        \n",
    "        return recommended_movies"
   ]
  },
  {
   "cell_type": "code",
   "execution_count": 4,
   "metadata": {},
   "outputs": [],
   "source": [
    "model = SVDModel()"
   ]
  },
  {
   "cell_type": "code",
   "execution_count": 5,
   "metadata": {},
   "outputs": [],
   "source": [
    "data = model.load_data()"
   ]
  },
  {
   "cell_type": "code",
   "execution_count": 6,
   "metadata": {},
   "outputs": [
    {
     "name": "stdout",
     "output_type": "stream",
     "text": [
      "1.1469595432281494\n"
     ]
    }
   ],
   "source": [
    "start = time.time()\n",
    "U, sigma, Vt, data_mean = model.train(data, 90)\n",
    "end = time.time()\n",
    "print(end - start)"
   ]
  },
  {
   "cell_type": "code",
   "execution_count": 7,
   "metadata": {},
   "outputs": [],
   "source": [
    "model.save(U, sigma, Vt, data_mean)"
   ]
  },
  {
   "cell_type": "code",
   "execution_count": 8,
   "metadata": {},
   "outputs": [],
   "source": [
    "recommender = SVDRecommender()"
   ]
  },
  {
   "cell_type": "code",
   "execution_count": 9,
   "metadata": {},
   "outputs": [
    {
     "name": "stdout",
     "output_type": "stream",
     "text": [
      "Finished in: 0.5989842414855957\n"
     ]
    },
    {
     "data": {
      "text/html": [
       "<div>\n",
       "<style scoped>\n",
       "    .dataframe tbody tr th:only-of-type {\n",
       "        vertical-align: middle;\n",
       "    }\n",
       "\n",
       "    .dataframe tbody tr th {\n",
       "        vertical-align: top;\n",
       "    }\n",
       "\n",
       "    .dataframe thead th {\n",
       "        text-align: right;\n",
       "    }\n",
       "</style>\n",
       "<table border=\"1\" class=\"dataframe\">\n",
       "  <thead>\n",
       "    <tr style=\"text-align: right;\">\n",
       "      <th></th>\n",
       "      <th>rating</th>\n",
       "    </tr>\n",
       "  </thead>\n",
       "  <tbody>\n",
       "    <tr>\n",
       "      <th>2571</th>\n",
       "      <td>1.822204</td>\n",
       "    </tr>\n",
       "    <tr>\n",
       "      <th>1704</th>\n",
       "      <td>1.625873</td>\n",
       "    </tr>\n",
       "    <tr>\n",
       "      <th>4993</th>\n",
       "      <td>1.457082</td>\n",
       "    </tr>\n",
       "    <tr>\n",
       "      <th>1</th>\n",
       "      <td>1.408086</td>\n",
       "    </tr>\n",
       "    <tr>\n",
       "      <th>480</th>\n",
       "      <td>1.392061</td>\n",
       "    </tr>\n",
       "    <tr>\n",
       "      <th>5952</th>\n",
       "      <td>1.355523</td>\n",
       "    </tr>\n",
       "    <tr>\n",
       "      <th>260</th>\n",
       "      <td>1.313659</td>\n",
       "    </tr>\n",
       "    <tr>\n",
       "      <th>2329</th>\n",
       "      <td>1.229195</td>\n",
       "    </tr>\n",
       "    <tr>\n",
       "      <th>590</th>\n",
       "      <td>1.080010</td>\n",
       "    </tr>\n",
       "    <tr>\n",
       "      <th>4306</th>\n",
       "      <td>1.061868</td>\n",
       "    </tr>\n",
       "    <tr>\n",
       "      <th>150</th>\n",
       "      <td>1.041657</td>\n",
       "    </tr>\n",
       "    <tr>\n",
       "      <th>47</th>\n",
       "      <td>0.991576</td>\n",
       "    </tr>\n",
       "    <tr>\n",
       "      <th>457</th>\n",
       "      <td>0.979778</td>\n",
       "    </tr>\n",
       "    <tr>\n",
       "      <th>1198</th>\n",
       "      <td>0.958692</td>\n",
       "    </tr>\n",
       "    <tr>\n",
       "      <th>2706</th>\n",
       "      <td>0.928712</td>\n",
       "    </tr>\n",
       "    <tr>\n",
       "      <th>364</th>\n",
       "      <td>0.903173</td>\n",
       "    </tr>\n",
       "    <tr>\n",
       "      <th>1193</th>\n",
       "      <td>0.888551</td>\n",
       "    </tr>\n",
       "    <tr>\n",
       "      <th>1196</th>\n",
       "      <td>0.873261</td>\n",
       "    </tr>\n",
       "    <tr>\n",
       "      <th>780</th>\n",
       "      <td>0.849100</td>\n",
       "    </tr>\n",
       "    <tr>\n",
       "      <th>380</th>\n",
       "      <td>0.818008</td>\n",
       "    </tr>\n",
       "  </tbody>\n",
       "</table>\n",
       "</div>"
      ],
      "text/plain": [
       "        rating\n",
       "2571  1.822204\n",
       "1704  1.625873\n",
       "4993  1.457082\n",
       "1     1.408086\n",
       "480   1.392061\n",
       "5952  1.355523\n",
       "260   1.313659\n",
       "2329  1.229195\n",
       "590   1.080010\n",
       "4306  1.061868\n",
       "150   1.041657\n",
       "47    0.991576\n",
       "457   0.979778\n",
       "1198  0.958692\n",
       "2706  0.928712\n",
       "364   0.903173\n",
       "1193  0.888551\n",
       "1196  0.873261\n",
       "780   0.849100\n",
       "380   0.818008"
      ]
     },
     "execution_count": 9,
     "metadata": {},
     "output_type": "execute_result"
    }
   ],
   "source": [
    "recommender.recommend(3, 20)"
   ]
  },
  {
   "cell_type": "code",
   "execution_count": null,
   "metadata": {},
   "outputs": [],
   "source": []
  }
 ],
 "metadata": {
  "kernelspec": {
   "display_name": "Python [default]",
   "language": "python",
   "name": "python3"
  },
  "language_info": {
   "codemirror_mode": {
    "name": "ipython",
    "version": 3
   },
   "file_extension": ".py",
   "mimetype": "text/x-python",
   "name": "python",
   "nbconvert_exporter": "python",
   "pygments_lexer": "ipython3",
   "version": "3.6.4"
  }
 },
 "nbformat": 4,
 "nbformat_minor": 2
}
