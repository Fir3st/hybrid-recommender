{
 "cells": [
  {
   "cell_type": "code",
   "execution_count": 30,
   "metadata": {},
   "outputs": [],
   "source": [
    "import os\n",
    "import time\n",
    "import math as mt\n",
    "import numpy as np\n",
    "import pandas as pd\n",
    "import pickle\n",
    "from scipy.sparse import csr_matrix\n",
    "from scipy.sparse.linalg import svds"
   ]
  },
  {
   "cell_type": "code",
   "execution_count": 2,
   "metadata": {},
   "outputs": [],
   "source": [
    "class SVDModel:\n",
    "    def __init__(self):\n",
    "        self.n_users = 0\n",
    "        self.n_items = 0\n",
    "\n",
    "    def load_data(self):\n",
    "        data = pd.read_json('../data/ratings_data.json', orient='split')\n",
    "        self.n_users = data['userId'].unique().shape[0]\n",
    "        self.n_items = data['movieId'].unique().shape[0]\n",
    "        self.users = data['userId'].unique()\n",
    "        self.movies = data['movieId'].unique()\n",
    "        \n",
    "        data_matrix = pd.DataFrame(np.zeros((self.n_users, self.n_items)), columns=self.movies, index=self.users)\n",
    "        for line in data.itertuples():\n",
    "            data_matrix.at[line[4], line[1]] = line[2]\n",
    "            \n",
    "        return csr_matrix(data_matrix, dtype=np.float32)\n",
    "    \n",
    "    def _save_pickle_file(self, file_name, data):\n",
    "        file_name = f'./models/SVD/{file_name}.pickle'\n",
    "        mapping_file = open(file_name, 'wb')\n",
    "        pickle.dump(data, mapping_file)\n",
    "        mapping_file.close()  \n",
    "    \n",
    "    def save(self, U, sigma, Vt, data_mean):\n",
    "        if not os.path.exists('./models/SVD'):\n",
    "            os.makedirs('./models/SVD')\n",
    "        \n",
    "        self._save_pickle_file('u', U)\n",
    "        self._save_pickle_file('sigma', sigma)\n",
    "        self._save_pickle_file('vt', Vt)\n",
    "        self._save_pickle_file('data_mean', data_mean)\n",
    "    \n",
    "    def train(self, data, k):\n",
    "        data_mean = np.mean(data, axis=1)\n",
    "        data_demeaned = data - data_mean.reshape(-1, 1)\n",
    "        U, sigma, Vt = svds(data_demeaned, k=k)\n",
    "        sigma = np.diag(sigma)\n",
    "        \n",
    "        return U, sigma, Vt, data_mean"
   ]
  },
  {
   "cell_type": "code",
   "execution_count": 71,
   "metadata": {},
   "outputs": [],
   "source": [
    "class SVDRecommender:\n",
    "    def __init__(self):\n",
    "        self.U = SVDRecommender.load_pickle_file('./models/SVD/u')\n",
    "        self.sigma = SVDRecommender.load_pickle_file('./models/SVD/sigma')\n",
    "        self.Vt = SVDRecommender.load_pickle_file('./models/SVD/vt')\n",
    "        self.data_mean = SVDRecommender.load_pickle_file('./models/SVD/data_mean')\n",
    "        \n",
    "    @staticmethod\n",
    "    def load_pickle_file(file_name):\n",
    "        file = open(f'{file_name}.pickle', 'rb')\n",
    "        object_file = pickle.load(file)\n",
    "        return object_file\n",
    "    \n",
    "    def get_predicted_ratings(self):\n",
    "        data = pd.read_json('../data/ratings_data.json', orient='split')\n",
    "        users_movies = data[['movieId', 'userId']]\n",
    "        all_predicted_ratings = np.dot(np.dot(self.U, self.sigma), self.Vt) + self.data_mean.reshape(-1, 1)\n",
    "        ratings_df = pd.DataFrame(all_predicted_ratings, columns=data['movieId'].unique(), index=data['userId'].unique())\n",
    "        \n",
    "        return ratings_df, users_movies\n",
    "    \n",
    "    def recommend(self, user_id, n=10):\n",
    "        start = time.time()\n",
    "        \n",
    "        ratings_df, users_movies = recommender.get_predicted_ratings()\n",
    "        user_rated_movies = users_movies.loc[users_movies['userId'] == user_id]['movieId'].values\n",
    "        predicted_ratings = pd.DataFrame(ratings_df.loc[user_id])\n",
    "        predicted_ratings.columns = ['rating']\n",
    "        recommended_movies = predicted_ratings.drop(user_rated_movies).sort_values(['rating'], ascending=False).head(n)\n",
    "        print(recommended_movies)\n",
    "        \n",
    "        end = time.time()\n",
    "        print(f'Finished in: {end - start}')"
   ]
  },
  {
   "cell_type": "code",
   "execution_count": 13,
   "metadata": {},
   "outputs": [],
   "source": [
    "model = SVDModel()"
   ]
  },
  {
   "cell_type": "code",
   "execution_count": 14,
   "metadata": {},
   "outputs": [],
   "source": [
    "data = model.load_data()"
   ]
  },
  {
   "cell_type": "code",
   "execution_count": 15,
   "metadata": {},
   "outputs": [],
   "source": [
    "U, sigma, Vt, data_mean = model.train(data, 90)"
   ]
  },
  {
   "cell_type": "code",
   "execution_count": 16,
   "metadata": {},
   "outputs": [],
   "source": [
    "model.save(U, sigma, Vt, data_mean)"
   ]
  },
  {
   "cell_type": "code",
   "execution_count": 72,
   "metadata": {},
   "outputs": [],
   "source": [
    "recommender = SVDRecommender()"
   ]
  },
  {
   "cell_type": "code",
   "execution_count": 74,
   "metadata": {},
   "outputs": [
    {
     "name": "stdout",
     "output_type": "stream",
     "text": [
      "        rating\n",
      "2571  1.822199\n",
      "1704  1.625877\n",
      "4993  1.457079\n",
      "1     1.408088\n",
      "480   1.392052\n",
      "5952  1.355521\n",
      "260   1.313654\n",
      "2329  1.229197\n",
      "590   1.080012\n",
      "4306  1.061863\n",
      "150   1.041650\n",
      "47    0.991581\n",
      "457   0.979779\n",
      "1198  0.958697\n",
      "2706  0.928712\n",
      "364   0.903169\n",
      "1193  0.888551\n",
      "1196  0.873269\n",
      "780   0.849104\n",
      "380   0.818009\n",
      "Finished in: 0.540163516998291\n"
     ]
    }
   ],
   "source": [
    "recommender.recommend(3, 20)"
   ]
  },
  {
   "cell_type": "code",
   "execution_count": null,
   "metadata": {},
   "outputs": [],
   "source": []
  }
 ],
 "metadata": {
  "kernelspec": {
   "display_name": "Python [default]",
   "language": "python",
   "name": "python3"
  },
  "language_info": {
   "codemirror_mode": {
    "name": "ipython",
    "version": 3
   },
   "file_extension": ".py",
   "mimetype": "text/x-python",
   "name": "python",
   "nbconvert_exporter": "python",
   "pygments_lexer": "ipython3",
   "version": "3.6.4"
  }
 },
 "nbformat": 4,
 "nbformat_minor": 2
}
