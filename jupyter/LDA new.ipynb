{
 "cells": [
  {
   "cell_type": "code",
   "execution_count": 1,
   "metadata": {},
   "outputs": [],
   "source": [
    "import time\n",
    "import pandas as pd\n",
    "import warnings\n",
    "warnings.filterwarnings(action='ignore', category=UserWarning, module='gensim')\n",
    "import gensim\n",
    "from gensim import corpora, models, parsing\n",
    "from gensim.models import LdaModel\n",
    "import nltk\n",
    "import pickle\n",
    "from nltk.stem import WordNetLemmatizer\n",
    "from nltk.stem.porter import *\n",
    "import numpy as np\n",
    "from sklearn.neighbors import NearestNeighbors\n",
    "import pyLDAvis.gensim\n",
    "import itertools\n",
    "from scipy.sparse import coo_matrix"
   ]
  },
  {
   "cell_type": "code",
   "execution_count": 2,
   "metadata": {},
   "outputs": [],
   "source": [
    "nltk.download('wordnet', quiet=True)\n",
    "np.random.seed(2018)\n",
    "stemmer = PorterStemmer()"
   ]
  },
  {
   "cell_type": "code",
   "execution_count": 3,
   "metadata": {},
   "outputs": [],
   "source": [
    "class PandasHelper:\n",
    "\n",
    "    @staticmethod\n",
    "    def get_id_from_series(series):\n",
    "        return int(series.index.tolist()[0])"
   ]
  },
  {
   "cell_type": "code",
   "execution_count": 33,
   "metadata": {
    "scrolled": true
   },
   "outputs": [],
   "source": [
    "class LDAModel:\n",
    "    def __init__(self):\n",
    "        self.no_below = 5\n",
    "        self.no_above = 0.2\n",
    "        self.num_topics = 10\n",
    "        self.num_of_iterations = 100\n",
    "        self.passes = 3\n",
    "        self.minimum_probability = 0.01\n",
    "        self.num_similarities = 30\n",
    "\n",
    "    def _lemmatize_stemming(self, text):\n",
    "        return stemmer.stem(WordNetLemmatizer().lemmatize(text))\n",
    "    \n",
    "    def _preprocess(self, text):\n",
    "        unigrams = []\n",
    "        for token in gensim.utils.simple_preprocess(text):\n",
    "            if token not in parsing.preprocessing.STOPWORDS and len(token) > 3:\n",
    "                unigrams.append(self._lemmatize_stemming(token))\n",
    "        \n",
    "        return unigrams\n",
    "    \n",
    "    def _savePickleFile(self, fileName, data):\n",
    "        fileName = f'./{fileName}.pickle'\n",
    "        mappingFile = open(fileName, 'wb')\n",
    "        pickle.dump(data, mappingFile)\n",
    "        mappingFile.close()\n",
    "\n",
    "    def save_model(self, lda, topics):\n",
    "        lda.save('./model')\n",
    "        self._savePickleFile('topics', topics)\n",
    "        \n",
    "    def save_similarities():\n",
    "        self._savePickleFile('similarities', similarities)\n",
    "        \n",
    "    def get_similarities(self, index, ids):\n",
    "        sims = []\n",
    "        coo = coo_matrix(index)\n",
    "        similarity_matrix = np.zeros(((len(ids)), len(ids)))\n",
    "        \n",
    "        print('Started getting LDA similarities')\n",
    "        for i,j,v in zip(coo.row, coo.col, coo.data):\n",
    "            similarity_matrix[i, j] = 1 if v > 1 else v\n",
    "        print('Created similarity matrix')\n",
    "            \n",
    "        model_knn = NearestNeighbors(metric='cosine', algorithm='brute')\n",
    "        model_knn.fit(similarity_matrix)\n",
    "        print('Created KNN model')\n",
    "            \n",
    "        df_similarity_matrix = pd.DataFrame(similarity_matrix, index=ids)\n",
    "        print('Created DF')\n",
    "        for i, row in df_similarity_matrix.iterrows():\n",
    "            movie_row = row.values.reshape(1, -1)\n",
    "            \n",
    "            distances, indices = model_knn.kneighbors(movie_row, n_neighbors=self.num_similarities + 1)\n",
    "            similarities = 1 - distances.flatten()\n",
    "            similarities = similarities[1:]\n",
    "            indices = indices.flatten()\n",
    "            indices = indices[1:]\n",
    "            \n",
    "            sims.append({\n",
    "                'id': i,\n",
    "                'similarities': [{\n",
    "                    'id': PandasHelper.get_id_from_series(df_similarity_matrix.iloc[[indices[index]]]),\n",
    "                    'similarity': float(line)\n",
    "                } for index, line in enumerate(similarities)]\n",
    "            })\n",
    "        print('Finished getting LDA similarities')\n",
    "        \n",
    "        return sims\n",
    "    \n",
    "    def get_topics(self, lda, corpus, ids):\n",
    "        documents_topics = [lda.get_document_topics(item) for item in corpus]\n",
    "        topics = [[tup[1] for tup in lst] for lst in documents_topics]\n",
    "        df_topics = pd.DataFrame(topics, index=ids)\n",
    "        \n",
    "        return df_topics\n",
    "\n",
    "    def train_model(self):\n",
    "        data = pd.read_json('../data/movies_data.json', orient='split')\n",
    "        documents = data['content']\n",
    "        ids = data['id']\n",
    "        processed_docs = documents.map(self._preprocess)\n",
    "\n",
    "        print('Start training LDA model...')\n",
    "        dictionary = gensim.corpora.Dictionary(processed_docs)\n",
    "        dictionary.filter_extremes(no_below = self.no_below, no_above=self.no_above)\n",
    "        corpus = [dictionary.doc2bow(doc) for doc in processed_docs]\n",
    "        \n",
    "        tf_idf = models.TfidfModel(corpus)\n",
    "        corpus_tf_idf = tf_idf[corpus]\n",
    "        \n",
    "        lda = LdaModel(\n",
    "            corpus_tf_idf,\n",
    "            num_topics=self.num_topics,\n",
    "            id2word=dictionary,\n",
    "            passes=self.passes,\n",
    "            iterations=self.num_of_iterations,\n",
    "            minimum_probability=self.minimum_probability)\n",
    "        \n",
    "        index = gensim.similarities.MatrixSimilarity(corpus_tf_idf)\n",
    "        print('Finished training LDA model...')\n",
    "        \n",
    "        return lda, corpus_tf_idf, index, ids"
   ]
  },
  {
   "cell_type": "code",
   "execution_count": 34,
   "metadata": {},
   "outputs": [],
   "source": [
    "lda_model = LDAModel()"
   ]
  },
  {
   "cell_type": "code",
   "execution_count": 35,
   "metadata": {},
   "outputs": [
    {
     "name": "stdout",
     "output_type": "stream",
     "text": [
      "Start training LDA model...\n",
      "Finished training LDA model...\n"
     ]
    }
   ],
   "source": [
    "lda, corpus, index, ids = lda_model.train_model()"
   ]
  },
  {
   "cell_type": "code",
   "execution_count": 36,
   "metadata": {},
   "outputs": [],
   "source": [
    "topics = lda_model.get_topics(lda, corpus, ids)\n",
    "# similarities = lda_model.get_similarities(index, ids)"
   ]
  },
  {
   "cell_type": "code",
   "execution_count": 37,
   "metadata": {},
   "outputs": [],
   "source": [
    "lda_model.save_model(lda, topics)"
   ]
  },
  {
   "cell_type": "code",
   "execution_count": null,
   "metadata": {},
   "outputs": [],
   "source": [
    "# lda_model.save_similarities(similarities)"
   ]
  },
  {
   "cell_type": "code",
   "execution_count": 38,
   "metadata": {},
   "outputs": [],
   "source": [
    "class Recommender():\n",
    "    def __init__(self):\n",
    "        self.lda = LdaModel.load('./model')\n",
    "        self.similarities = self.loadPickleFile('./similarities')\n",
    "        self.topics = self.loadPickleFile('./topics')\n",
    "        self.num_of_recommendation = 10\n",
    "        \n",
    "    def loadPickleFile(self, fileName):\n",
    "        file = open(f'{fileName}.pickle','rb')\n",
    "        object_file = pickle.load(file)\n",
    "        return object_file\n",
    "    \n",
    "    def recommend(self, movie_id):\n",
    "        start = time.time()\n",
    "\n",
    "        sims = list(filter(lambda similarity: similarity['id'] == movie_id, self.similarities))\n",
    "        \n",
    "        end = time.time()\n",
    "        print(f'Recommended in: {end - start} s')\n",
    "        \n",
    "        if len(sims) == 0:\n",
    "            return None\n",
    "        \n",
    "        return sims[0]['similarities'][:self.num_of_recommendation]"
   ]
  },
  {
   "cell_type": "code",
   "execution_count": 39,
   "metadata": {},
   "outputs": [],
   "source": [
    "recommender = Recommender()"
   ]
  },
  {
   "cell_type": "code",
   "execution_count": 40,
   "metadata": {},
   "outputs": [
    {
     "name": "stdout",
     "output_type": "stream",
     "text": [
      "Recommended in: 0.0029921531677246094 s\n"
     ]
    },
    {
     "data": {
      "text/plain": [
       "[{'id': 1544, 'similarity': 0.6224342338464117},\n",
       " {'id': 117529, 'similarity': 0.590238744432192},\n",
       " {'id': 136016, 'similarity': 0.5057719744673915},\n",
       " {'id': 4519, 'similarity': 0.5010557089695745},\n",
       " {'id': 69278, 'similarity': 0.49888860087947273},\n",
       " {'id': 1017, 'similarity': 0.47036480381665435},\n",
       " {'id': 4445, 'similarity': 0.4501327921976248},\n",
       " {'id': 3400, 'similarity': 0.4393099851682969},\n",
       " {'id': 69644, 'similarity': 0.4387942109108951},\n",
       " {'id': 5504, 'similarity': 0.40948724119046376}]"
      ]
     },
     "execution_count": 40,
     "metadata": {},
     "output_type": "execute_result"
    }
   ],
   "source": [
    "recommender.recommend(480)"
   ]
  },
  {
   "cell_type": "code",
   "execution_count": null,
   "metadata": {},
   "outputs": [],
   "source": []
  }
 ],
 "metadata": {
  "kernelspec": {
   "display_name": "Python [conda root]",
   "language": "python",
   "name": "conda-root-py"
  },
  "language_info": {
   "codemirror_mode": {
    "name": "ipython",
    "version": 3
   },
   "file_extension": ".py",
   "mimetype": "text/x-python",
   "name": "python",
   "nbconvert_exporter": "python",
   "pygments_lexer": "ipython3",
   "version": "3.6.4"
  }
 },
 "nbformat": 4,
 "nbformat_minor": 2
}
