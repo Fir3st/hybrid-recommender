{
 "cells": [
  {
   "cell_type": "code",
   "execution_count": 10,
   "metadata": {},
   "outputs": [],
   "source": [
    "import time\n",
    "import pandas as pd\n",
    "import warnings\n",
    "warnings.filterwarnings(action='ignore', category=UserWarning, module='gensim')\n",
    "import gensim\n",
    "from gensim import corpora, models, parsing\n",
    "from gensim.models import LdaModel\n",
    "import nltk\n",
    "import pickle\n",
    "from nltk.stem import WordNetLemmatizer\n",
    "from nltk.stem.porter import *\n",
    "import numpy as np\n",
    "from sklearn.neighbors import NearestNeighbors\n",
    "import pyLDAvis.gensim\n",
    "import itertools\n",
    "from scipy.sparse import coo_matrix"
   ]
  },
  {
   "cell_type": "code",
   "execution_count": 2,
   "metadata": {},
   "outputs": [],
   "source": [
    "nltk.download('wordnet', quiet=True)\n",
    "np.random.seed(2018)\n",
    "stemmer = PorterStemmer()"
   ]
  },
  {
   "cell_type": "code",
   "execution_count": 3,
   "metadata": {},
   "outputs": [],
   "source": [
    "class PandasHelper:\n",
    "\n",
    "    @staticmethod\n",
    "    def get_id_from_series(series):\n",
    "        return int(series.index.tolist()[0])"
   ]
  },
  {
   "cell_type": "code",
   "execution_count": 28,
   "metadata": {
    "scrolled": true
   },
   "outputs": [
    {
     "name": "stdout",
     "output_type": "stream",
     "text": [
      "Start training LDA model...\n"
     ]
    },
    {
     "name": "stderr",
     "output_type": "stream",
     "text": [
      "WARNING:gensim.similarities.docsim:scanning corpus to determine the number of features (consider setting `num_features` explicitly)\n"
     ]
    },
    {
     "name": "stdout",
     "output_type": "stream",
     "text": [
      "Finished training LDA model...\n"
     ]
    }
   ],
   "source": [
    "class LDAModel:\n",
    "    def __init__(self):\n",
    "        self.no_below = 5\n",
    "        self.no_above = 0.2\n",
    "        self.num_topics = 10\n",
    "        self.num_of_iterations = 100\n",
    "        self.passes = 3\n",
    "        self.minimum_probability = 0.01\n",
    "\n",
    "    def _lemmatize_stemming(self, text):\n",
    "        return stemmer.stem(WordNetLemmatizer().lemmatize(text))\n",
    "    \n",
    "    def _preprocess(self, text):\n",
    "        unigrams = []\n",
    "        for token in gensim.utils.simple_preprocess(text):\n",
    "            if token not in parsing.preprocessing.STOPWORDS and len(token) > 3:\n",
    "                unigrams.append(self._lemmatize_stemming(token))\n",
    "                \n",
    "        # bi_grams = ['_'.join(b) for b in nltk.bigrams(unigrams)]\n",
    "        # tri_grams = ['_'.join(t) for t in nltk.trigrams(unigrams)]\n",
    "        \n",
    "        return list(itertools.chain(unigrams))\n",
    "    \n",
    "    def _savePickleFile(self, fileName, data):\n",
    "        fileName = f'./{fileName}.pickle'\n",
    "        mappingFile = open(fileName, 'wb')\n",
    "        pickle.dump(data, mappingFile)\n",
    "        mappingFile.close()\n",
    "\n",
    "    def saveModel(self, lda, corpus, df):\n",
    "        # Save model output\n",
    "        lda.save('./model')\n",
    "        # Save corpus\n",
    "        self._savePickleFile('corpus', corpus)\n",
    "        self._savePickleFile('df', df)\n",
    "\n",
    "    def trainModel(self):\n",
    "        data = pd.read_json('../data/movies_data.json', orient='split')\n",
    "        documents = data['content']\n",
    "        ids = data['id']\n",
    "        processed_docs = documents.map(self._preprocess)\n",
    "\n",
    "        print('Start training LDA model...')\n",
    "        dictionary = gensim.corpora.Dictionary(processed_docs)\n",
    "        dictionary.filter_extremes(no_below = self.no_below, no_above=self.no_above)\n",
    "        corpus = [dictionary.doc2bow(doc) for doc in processed_docs]\n",
    "        \n",
    "        tf_idf = models.TfidfModel(corpus)\n",
    "        corpus_tf_idf = tf_idf[corpus]\n",
    "        \n",
    "        lda = LdaModel(\n",
    "            corpus_tf_idf,\n",
    "            num_topics=self.num_topics,\n",
    "            id2word=dictionary,\n",
    "            passes=self.passes,\n",
    "            iterations=self.num_of_iterations,\n",
    "            minimum_probability=self.minimum_probability)\n",
    "        \n",
    "        index = gensim.similarities.MatrixSimilarity(corpus_tf_idf)\n",
    "        coo = coo_matrix(index)\n",
    "        similarity_matrix = np.zeros(((len(ids)), len(ids)))\n",
    "        \n",
    "        for i,j,v in zip(coo.row, coo.col, coo.data):\n",
    "            similarity_matrix[i, j] = 1 if v > 1 else v\n",
    "            \n",
    "        df_similarity_matrix = pd.DataFrame(similarity_matrix, index=ids, columns=ids)\n",
    "        \n",
    "        # lda_display = pyLDAvis.gensim.prepare(lda, corpus_tf_idf, dictionary, sort_topics=False)\n",
    "        # pyLDAvis.show(lda_display)\n",
    "        \n",
    "        print('Finished training LDA model...')\n",
    "        \n",
    "        return lda, corpus, df_similarity_matrix\n",
    "    \n",
    "lda_model = LDAModel()\n",
    "lda, corpus, df = lda_model.trainModel()  # train a LDA model using the assgined corpora\n",
    "lda_model.saveModel(lda, corpus, df) # save model for recommendations use"
   ]
  },
  {
   "cell_type": "code",
   "execution_count": 32,
   "metadata": {},
   "outputs": [],
   "source": [
    "class Recommender():\n",
    "    def __init__(self):\n",
    "        self.lda = LdaModel.load('./model')\n",
    "        self.corpus = self.loadPickleFile('./corpus')\n",
    "        self.df = self.loadPickleFile('./df')\n",
    "        self.num_of_recommendation = 10\n",
    "        \n",
    "    def loadPickleFile(self, fileName):\n",
    "        file = open(f'{fileName}.pickle','rb')\n",
    "        object_file = pickle.load(file)\n",
    "        return object_file\n",
    "    \n",
    "    def recommend(self, movie_id):\n",
    "        data = pd.read_json('../data/movies_data.json', orient='split')\n",
    "        start = time.time()\n",
    "\n",
    "        model_knn = NearestNeighbors(metric='cosine', algorithm='brute')\n",
    "        model_knn.fit(self.df)\n",
    "\n",
    "        movie_topics = self.get_movie_topics(movie_id)\n",
    "\n",
    "        if movie_topics is None:\n",
    "            return None\n",
    "\n",
    "        distances, indices = model_knn.kneighbors(movie_topics, n_neighbors=self.num_of_recommendation + 1)\n",
    "        similarities = 1 - distances.flatten()\n",
    "        similarities = similarities[1:]\n",
    "        indices = indices.flatten()\n",
    "        indices = indices[1:]\n",
    "\n",
    "        end = time.time()\n",
    "        print(f'Recommended in: {end - start} s')\n",
    "        return [{\n",
    "            'id': PandasHelper.get_id_from_series(self.df.iloc[[indices[index]]]),\n",
    "            'name': data[data['id'] == PandasHelper.get_id_from_series(self.df.iloc[[indices[index]]])].title.iloc[0],\n",
    "            'similarity': float(line)\n",
    "        } for index, line in enumerate(similarities)]\n",
    "\n",
    "    def get_movie_topics(self, movie_id):\n",
    "        movie_row = self.df[self.df.index == movie_id]\n",
    "\n",
    "        if movie_row.empty:\n",
    "            return None\n",
    "\n",
    "        row_values = movie_row.values.reshape(1, -1)\n",
    "\n",
    "        return row_values"
   ]
  },
  {
   "cell_type": "code",
   "execution_count": 33,
   "metadata": {},
   "outputs": [],
   "source": [
    "recommender = Recommender()"
   ]
  },
  {
   "cell_type": "code",
   "execution_count": 34,
   "metadata": {},
   "outputs": [
    {
     "name": "stdout",
     "output_type": "stream",
     "text": [
      "Recommended in: 1.4677517414093018 s\n"
     ]
    },
    {
     "data": {
      "text/plain": [
       "[{'id': 1544,\n",
       "  'name': 'The Lost World: Jurassic Park',\n",
       "  'similarity': 0.6224342338464117},\n",
       " {'id': 117529, 'name': 'Jurassic World', 'similarity': 0.590238744432192},\n",
       " {'id': 136016, 'name': 'The Good Dinosaur', 'similarity': 0.5057719744673915},\n",
       " {'id': 4519,\n",
       "  'name': 'The Land Before Time',\n",
       "  'similarity': 0.5010557089695745},\n",
       " {'id': 69278, 'name': 'Land of the Lost', 'similarity': 0.49888860087947273},\n",
       " {'id': 1017,\n",
       "  'name': 'Swiss Family Robinson',\n",
       "  'similarity': 0.47036480381665435},\n",
       " {'id': 4445,\n",
       "  'name': 'T-Rex: Back to the Cretaceous',\n",
       "  'similarity': 0.4501327921976248},\n",
       " {'id': 3400,\n",
       "  'name': \"We're Back! A Dinosaur's Story\",\n",
       "  'similarity': 0.4393099851682969},\n",
       " {'id': 69644,\n",
       "  'name': 'Ice Age: Dawn of the Dinosaurs',\n",
       "  'similarity': 0.4387942109108951},\n",
       " {'id': 5504,\n",
       "  'name': 'Spy Kids 2: Island of Lost Dreams',\n",
       "  'similarity': 0.40948724119046376}]"
      ]
     },
     "execution_count": 34,
     "metadata": {},
     "output_type": "execute_result"
    }
   ],
   "source": [
    "recommender.recommend(480)"
   ]
  },
  {
   "cell_type": "code",
   "execution_count": null,
   "metadata": {},
   "outputs": [],
   "source": []
  }
 ],
 "metadata": {
  "kernelspec": {
   "display_name": "Python [conda root]",
   "language": "python",
   "name": "conda-root-py"
  }
 },
 "nbformat": 4,
 "nbformat_minor": 2
}
