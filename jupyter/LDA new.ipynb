{
 "cells": [
  {
   "cell_type": "code",
   "execution_count": 24,
   "metadata": {},
   "outputs": [],
   "source": [
    "import time\n",
    "import pandas as pd\n",
    "import warnings\n",
    "warnings.filterwarnings(action='ignore', category=UserWarning, module='gensim')\n",
    "import gensim\n",
    "from gensim import corpora, models, parsing\n",
    "from gensim.models import LdaModel\n",
    "import nltk\n",
    "import pickle\n",
    "from nltk.stem import WordNetLemmatizer\n",
    "from nltk.stem.porter import *\n",
    "import numpy as np\n",
    "from sklearn.neighbors import NearestNeighbors\n",
    "import spacy\n",
    "from spacy.lang.en import English\n",
    "import pyLDAvis.gensim\n",
    "import itertools"
   ]
  },
  {
   "cell_type": "code",
   "execution_count": 12,
   "metadata": {},
   "outputs": [],
   "source": [
    "parser = English()\n",
    "nltk.download('wordnet', quiet=True)\n",
    "np.random.seed(2018)\n",
    "stemmer = PorterStemmer()"
   ]
  },
  {
   "cell_type": "code",
   "execution_count": 3,
   "metadata": {},
   "outputs": [],
   "source": [
    "class PandasHelper:\n",
    "\n",
    "    @staticmethod\n",
    "    def get_id_from_series(series):\n",
    "        return int(series.index.tolist()[0])"
   ]
  },
  {
   "cell_type": "code",
   "execution_count": 32,
   "metadata": {},
   "outputs": [
    {
     "name": "stdout",
     "output_type": "stream",
     "text": [
      "Start training LDA model...\n",
      "\n",
      "Note: if you're in the IPython notebook, pyLDAvis.show() is not the best command\n",
      "      to use. Consider using pyLDAvis.display(), or pyLDAvis.enable_notebook().\n",
      "      See more information at http://pyLDAvis.github.io/quickstart.html .\n",
      "\n",
      "You must interrupt the kernel to end this command\n",
      "\n",
      "Serving to http://127.0.0.1:8889/    [Ctrl-C to exit]\n"
     ]
    },
    {
     "name": "stderr",
     "output_type": "stream",
     "text": [
      "127.0.0.1 - - [17/Dec/2018 19:04:40] \"GET / HTTP/1.1\" 200 -\n",
      "127.0.0.1 - - [17/Dec/2018 19:04:40] \"GET /LDAvis.css HTTP/1.1\" 200 -\n",
      "127.0.0.1 - - [17/Dec/2018 19:04:40] \"GET /d3.js HTTP/1.1\" 200 -\n",
      "127.0.0.1 - - [17/Dec/2018 19:04:40] code 404, message Not Found\n",
      "127.0.0.1 - - [17/Dec/2018 19:04:40] \"GET /favicon.ico HTTP/1.1\" 404 -\n",
      "127.0.0.1 - - [17/Dec/2018 19:04:41] \"GET /LDAvis.js HTTP/1.1\" 200 -\n"
     ]
    },
    {
     "name": "stdout",
     "output_type": "stream",
     "text": [
      "\n",
      "stopping Server...\n"
     ]
    }
   ],
   "source": [
    "class LDAModel:\n",
    "    def __init__(self):\n",
    "        # Num_topics in LDA\n",
    "        self.num_topics = 20\n",
    "        # Filter out tokens that appear in less than `no_below`\n",
    "        self.no_below = 5\n",
    "        # Number of iterations in training LDA model, the less the documents in total, the more the iterations for LDA model to converge\n",
    "        self.num_of_iterations = 1000\n",
    "\n",
    "    def _lemmatize_stemming(self, text):\n",
    "        return stemmer.stem(WordNetLemmatizer().lemmatize(text))\n",
    "    \n",
    "    def _preprocess(self, text):\n",
    "        unigrams = []\n",
    "        for token in gensim.utils.simple_preprocess(text):\n",
    "            if token not in gensim.parsing.preprocessing.STOPWORDS and len(token) > 2:\n",
    "                unigrams.append(self._lemmatize_stemming(token))\n",
    "                \n",
    "        bi_grams = ['_'.join(b) for b in nltk.bigrams(unigrams)]\n",
    "        tri_grams = ['_'.join(t) for t in nltk.trigrams(unigrams)]       \n",
    "        \n",
    "        return list(itertools.chain(unigrams, bi_grams, tri_grams))\n",
    "    \n",
    "    def _savePickleFile(self, fileName, data):\n",
    "        fileName = f'./{fileName}.pickle'\n",
    "        mappingFile = open(fileName, 'wb')\n",
    "        pickle.dump(data, mappingFile)\n",
    "        mappingFile.close()\n",
    "\n",
    "    def saveModel(self, lda, corpus, docs_topics):\n",
    "        # Save model output\n",
    "        lda.save('./model')\n",
    "        # Save corpus\n",
    "        self._savePickleFile('corpus', corpus)\n",
    "        self._savePickleFile('docs_topics', docs_topics)\n",
    "\n",
    "    def trainModel(self):\n",
    "        data = pd.read_json('../data/movies_data.json', orient='split')\n",
    "        documents = data['content']\n",
    "        ids = data['id']\n",
    "        processed_docs = documents.map(self._preprocess)\n",
    "        \n",
    "        print('Start training LDA model...')\n",
    "        dictionary = gensim.corpora.Dictionary(processed_docs)\n",
    "        dictionary.filter_extremes(no_below = self.no_below)\n",
    "        corpus = [dictionary.doc2bow(doc) for doc in processed_docs]\n",
    "        \n",
    "        lda = LdaModel(\n",
    "            corpus,\n",
    "            num_topics=self.num_topics,\n",
    "            id2word=dictionary,\n",
    "            passes=5,\n",
    "            alpha=[0.01]*self.num_topics,\n",
    "            iterations=self.num_of_iterations,\n",
    "            minimum_probability=0.0)\n",
    "        \n",
    "        lda_display = pyLDAvis.gensim.prepare(lda, corpus, dictionary, sort_topics=False)\n",
    "        pyLDAvis.show(lda_display)\n",
    "        '''\n",
    "        docs_topics = np.array([[tup[1] for tup in lst] for lst in lda[corpus]])\n",
    "        df_docs_topics = pd.DataFrame(docs_topics, index = ids)\n",
    "        \n",
    "        print('Finished training LDA model...')\n",
    "        \n",
    "        return lda, corpus, df_docs_topics\n",
    "        '''\n",
    "    \n",
    "lda_model = LDAModel()\n",
    "lda_model.trainModel()\n",
    "# lda, corpus, df_docs_topics = lda_model.trainModel()  # train a LDA model using the assgined corpora\n",
    "# lda_model.saveModel(lda, corpus, df_docs_topics) # save model for recommendations use"
   ]
  },
  {
   "cell_type": "code",
   "execution_count": 29,
   "metadata": {},
   "outputs": [],
   "source": [
    "class Recommender():\n",
    "    def __init__(self):\n",
    "        self.lda = LdaModel.load('./model')\n",
    "        self.corpus = self.loadPickleFile('./corpus')\n",
    "        self.docs_topics = self.loadPickleFile('./docs_topics')\n",
    "        self.num_of_recommendation = 10\n",
    "        \n",
    "    def loadPickleFile(self, fileName):\n",
    "        file = open(f'{fileName}.pickle','rb')\n",
    "        object_file = pickle.load(file)\n",
    "        return object_file\n",
    "    \n",
    "    def recommend(self, movie_id):\n",
    "        data = pd.read_json('../data/movies_data.json', orient='split')\n",
    "        start = time.time()\n",
    "\n",
    "        model_knn = NearestNeighbors(metric='cosine', algorithm='brute')\n",
    "        model_knn.fit(self.docs_topics)\n",
    "\n",
    "        movie_topics = self.get_movie_topics(movie_id)\n",
    "\n",
    "        if movie_topics is None:\n",
    "            return None\n",
    "\n",
    "        distances, indices = model_knn.kneighbors(movie_topics, n_neighbors=self.num_of_recommendation + 1)\n",
    "        similarities = 1 - distances.flatten()\n",
    "        similarities = similarities[1:]\n",
    "        indices = indices.flatten()\n",
    "        indices = indices[1:]\n",
    "\n",
    "        end = time.time()\n",
    "        print(f'Recommended in: {end - start} s')\n",
    "        return [{\n",
    "            'id': PandasHelper.get_id_from_series(self.docs_topics.iloc[[indices[index]]]),\n",
    "            'name': data[data['id'] == PandasHelper.get_id_from_series(self.docs_topics.iloc[[indices[index]]])].title.iloc[0],\n",
    "            'similarity': float(line)\n",
    "        } for index, line in enumerate(similarities)]\n",
    "\n",
    "    def get_movie_topics(self, movie_id):\n",
    "        movie_row = self.docs_topics[self.docs_topics.index == movie_id]\n",
    "\n",
    "        if movie_row.empty:\n",
    "            return None\n",
    "\n",
    "        row_values = movie_row.values.reshape(1, -1)\n",
    "\n",
    "        return row_values"
   ]
  },
  {
   "cell_type": "code",
   "execution_count": 30,
   "metadata": {},
   "outputs": [],
   "source": [
    "recommender = Recommender()"
   ]
  },
  {
   "cell_type": "code",
   "execution_count": 31,
   "metadata": {},
   "outputs": [
    {
     "name": "stdout",
     "output_type": "stream",
     "text": [
      "Recommended in: 0.004979610443115234 s\n"
     ]
    },
    {
     "data": {
      "text/plain": [
       "[{'id': 101106, 'name': 'Sound City', 'similarity': 0.9524266719818115},\n",
       " {'id': 2237, 'name': 'Without Limits', 'similarity': 0.9186468720436096},\n",
       " {'id': 720,\n",
       "  'name': 'Wallace & Gromit: The Best of Aardman Animation',\n",
       "  'similarity': 0.9042388796806335},\n",
       " {'id': 98122,\n",
       "  'name': 'Indie Game: The Movie',\n",
       "  'similarity': 0.8975331783294678},\n",
       " {'id': 5864, 'name': 'Tarzan the Ape Man', 'similarity': 0.8922789096832275},\n",
       " {'id': 2363, 'name': 'Godzilla', 'similarity': 0.8891057968139648},\n",
       " {'id': 1542, 'name': 'Brassed Off', 'similarity': 0.8884487152099609},\n",
       " {'id': 2045, 'name': 'A Far Off Place', 'similarity': 0.88751620054245},\n",
       " {'id': 39779,\n",
       "  'name': 'Tarzan and His Mate',\n",
       "  'similarity': 0.8810970783233643},\n",
       " {'id': 2295, 'name': 'The Impostors', 'similarity': 0.8727961182594299}]"
      ]
     },
     "execution_count": 31,
     "metadata": {},
     "output_type": "execute_result"
    }
   ],
   "source": [
    "recommender.recommend(480)"
   ]
  },
  {
   "cell_type": "code",
   "execution_count": null,
   "metadata": {},
   "outputs": [],
   "source": []
  }
 ],
 "metadata": {
  "kernelspec": {
   "display_name": "Python [conda root]",
   "language": "python",
   "name": "conda-root-py"
  },
  "language_info": {
   "codemirror_mode": {
    "name": "ipython",
    "version": 3
   },
   "file_extension": ".py",
   "mimetype": "text/x-python",
   "name": "python",
   "nbconvert_exporter": "python",
   "pygments_lexer": "ipython3",
   "version": "3.6.4"
  }
 },
 "nbformat": 4,
 "nbformat_minor": 2
}
