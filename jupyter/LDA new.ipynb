{
 "cells": [
  {
   "cell_type": "code",
   "execution_count": 1,
   "metadata": {},
   "outputs": [],
   "source": [
    "import time\n",
    "import pandas as pd\n",
    "import warnings\n",
    "warnings.filterwarnings(action='ignore', category=UserWarning, module='gensim')\n",
    "import gensim\n",
    "from gensim import corpora, models, parsing\n",
    "from gensim.models import LdaModel\n",
    "import nltk\n",
    "import pickle\n",
    "from nltk.stem import WordNetLemmatizer\n",
    "from nltk.stem.porter import *\n",
    "import numpy as np\n",
    "from sklearn.neighbors import NearestNeighbors\n",
    "import pyLDAvis.gensim"
   ]
  },
  {
   "cell_type": "code",
   "execution_count": 3,
   "metadata": {},
   "outputs": [],
   "source": [
    "nltk.download('wordnet', quiet=True)\n",
    "np.random.seed(2018)\n",
    "stemmer = PorterStemmer()"
   ]
  },
  {
   "cell_type": "code",
   "execution_count": 4,
   "metadata": {},
   "outputs": [],
   "source": [
    "class PandasHelper:\n",
    "\n",
    "    @staticmethod\n",
    "    def get_id_from_series(series):\n",
    "        return int(series.index.tolist()[0])"
   ]
  },
  {
   "cell_type": "code",
   "execution_count": 17,
   "metadata": {},
   "outputs": [
    {
     "name": "stdout",
     "output_type": "stream",
     "text": [
      "Start training LDA model...\n",
      "Finished training LDA model...\n"
     ]
    }
   ],
   "source": [
    "class LDAModel:\n",
    "    def __init__(self):\n",
    "        # Num_topics in LDA\n",
    "        self.num_topics = 30\n",
    "        # Filter out tokens that appear in less than `no_below`\n",
    "        self.no_below = 5\n",
    "        self.no_above = 0.2\n",
    "        # Number of iterations in training LDA model\n",
    "        self.num_of_iterations = 1000\n",
    "        self.passes = 5\n",
    "\n",
    "    def _lemmatize_stemming(self, text):\n",
    "        return stemmer.stem(WordNetLemmatizer().lemmatize(text))\n",
    "    \n",
    "    def _preprocess(self, text):\n",
    "        unigrams = []\n",
    "        for token in gensim.utils.simple_preprocess(text):\n",
    "            if token not in gensim.parsing.preprocessing.STOPWORDS and len(token) > 3:\n",
    "                unigrams.append(self._lemmatize_stemming(token))     \n",
    "        \n",
    "        return unigrams\n",
    "    \n",
    "    def _savePickleFile(self, fileName, data):\n",
    "        fileName = f'./{fileName}.pickle'\n",
    "        mappingFile = open(fileName, 'wb')\n",
    "        pickle.dump(data, mappingFile)\n",
    "        mappingFile.close()\n",
    "\n",
    "    def saveModel(self, lda, corpus, docs_topics):\n",
    "        # Save model output\n",
    "        lda.save('./model')\n",
    "        # Save corpus\n",
    "        self._savePickleFile('corpus', corpus)\n",
    "        self._savePickleFile('docs_topics', docs_topics)\n",
    "\n",
    "    def trainModel(self):\n",
    "        data = pd.read_json('../data/movies_data.json', orient='split')\n",
    "        documents = data['content']\n",
    "        ids = data['id']\n",
    "        processed_docs = documents.map(self._preprocess)\n",
    "        \n",
    "        print('Start training LDA model...')\n",
    "        dictionary = gensim.corpora.Dictionary(processed_docs)\n",
    "        dictionary.filter_extremes(no_below = self.no_below, no_above=self.no_above)\n",
    "        corpus = [dictionary.doc2bow(doc) for doc in processed_docs]\n",
    "        \n",
    "        tf_idf = models.TfidfModel(corpus)\n",
    "        corpus_tf_idf = tf_idf[corpus]\n",
    "        \n",
    "        lda = LdaModel(\n",
    "            corpus_tf_idf,\n",
    "            num_topics=self.num_topics,\n",
    "            id2word=dictionary,\n",
    "            passes=self.passes,\n",
    "            iterations=self.num_of_iterations,\n",
    "            minimum_probability=0.0)\n",
    "        \n",
    "        # lda_display = pyLDAvis.gensim.prepare(lda, corpus_tf_idf, dictionary, sort_topics=False)\n",
    "        # pyLDAvis.show(lda_display)\n",
    "        \n",
    "        docs_topics = np.array([[tup[1] for tup in lst] for lst in lda[corpus_tf_idf]])\n",
    "        df_docs_topics = pd.DataFrame(docs_topics, index = ids)\n",
    "        \n",
    "        print('Finished training LDA model...')\n",
    "        \n",
    "        return lda, corpus, df_docs_topics\n",
    "    \n",
    "lda_model = LDAModel()\n",
    "lda, corpus, df_docs_topics = lda_model.trainModel()  # train a LDA model using the assgined corpora\n",
    "lda_model.saveModel(lda, corpus, df_docs_topics) # save model for recommendations use"
   ]
  },
  {
   "cell_type": "code",
   "execution_count": 18,
   "metadata": {},
   "outputs": [],
   "source": [
    "class Recommender():\n",
    "    def __init__(self):\n",
    "        self.lda = LdaModel.load('./model')\n",
    "        self.corpus = self.loadPickleFile('./corpus')\n",
    "        self.docs_topics = self.loadPickleFile('./docs_topics')\n",
    "        self.num_of_recommendation = 10\n",
    "        \n",
    "    def loadPickleFile(self, fileName):\n",
    "        file = open(f'{fileName}.pickle','rb')\n",
    "        object_file = pickle.load(file)\n",
    "        return object_file\n",
    "    \n",
    "    def recommend(self, movie_id):\n",
    "        data = pd.read_json('../data/movies_data.json', orient='split')\n",
    "        start = time.time()\n",
    "\n",
    "        model_knn = NearestNeighbors(metric='cosine', algorithm='brute')\n",
    "        model_knn.fit(self.docs_topics)\n",
    "\n",
    "        movie_topics = self.get_movie_topics(movie_id)\n",
    "\n",
    "        if movie_topics is None:\n",
    "            return None\n",
    "\n",
    "        distances, indices = model_knn.kneighbors(movie_topics, n_neighbors=self.num_of_recommendation + 1)\n",
    "        similarities = 1 - distances.flatten()\n",
    "        similarities = similarities[1:]\n",
    "        indices = indices.flatten()\n",
    "        indices = indices[1:]\n",
    "\n",
    "        end = time.time()\n",
    "        print(f'Recommended in: {end - start} s')\n",
    "        return [{\n",
    "            'id': PandasHelper.get_id_from_series(self.docs_topics.iloc[[indices[index]]]),\n",
    "            'name': data[data['id'] == PandasHelper.get_id_from_series(self.docs_topics.iloc[[indices[index]]])].title.iloc[0],\n",
    "            'similarity': float(line)\n",
    "        } for index, line in enumerate(similarities)]\n",
    "\n",
    "    def get_movie_topics(self, movie_id):\n",
    "        movie_row = self.docs_topics[self.docs_topics.index == movie_id]\n",
    "\n",
    "        if movie_row.empty:\n",
    "            return None\n",
    "\n",
    "        row_values = movie_row.values.reshape(1, -1)\n",
    "\n",
    "        return row_values"
   ]
  },
  {
   "cell_type": "code",
   "execution_count": 19,
   "metadata": {},
   "outputs": [],
   "source": [
    "recommender = Recommender()"
   ]
  },
  {
   "cell_type": "code",
   "execution_count": 20,
   "metadata": {},
   "outputs": [
    {
     "name": "stdout",
     "output_type": "stream",
     "text": [
      "Recommended in: 0.004989147186279297 s\n"
     ]
    },
    {
     "data": {
      "text/plain": [
       "[{'id': 7980, 'name': 'A Bridge Too Far', 'similarity': 0.9765293598175049},\n",
       " {'id': 2, 'name': 'Jumanji', 'similarity': 0.9691300988197327},\n",
       " {'id': 5099, 'name': 'Heidi', 'similarity': 0.9654021859169006},\n",
       " {'id': 5880, 'name': 'Extreme Ops', 'similarity': 0.9634126424789429},\n",
       " {'id': 325, 'name': 'Senior Trip', 'similarity': 0.9623314142227173},\n",
       " {'id': 8665,\n",
       "  'name': 'The Bourne Supremacy',\n",
       "  'similarity': 0.9617115259170532},\n",
       " {'id': 112852,\n",
       "  'name': 'Guardians of the Galaxy',\n",
       "  'similarity': 0.9607579708099365},\n",
       " {'id': 5932, 'name': 'Burden of Dreams', 'similarity': 0.9605057239532471},\n",
       " {'id': 1050, 'name': 'Looking for Richard', 'similarity': 0.9604430794715881},\n",
       " {'id': 2827,\n",
       "  'name': \"The Astronaut's Wife\",\n",
       "  'similarity': 0.9597653150558472}]"
      ]
     },
     "execution_count": 20,
     "metadata": {},
     "output_type": "execute_result"
    }
   ],
   "source": [
    "recommender.recommend(480)"
   ]
  },
  {
   "cell_type": "code",
   "execution_count": null,
   "metadata": {},
   "outputs": [],
   "source": []
  }
 ],
 "metadata": {
  "kernelspec": {
   "display_name": "Python [conda root]",
   "language": "python",
   "name": "conda-root-py"
  },
  "language_info": {
   "codemirror_mode": {
    "name": "ipython",
    "version": 3
   },
   "file_extension": ".py",
   "mimetype": "text/x-python",
   "name": "python",
   "nbconvert_exporter": "python",
   "pygments_lexer": "ipython3",
   "version": "3.6.4"
  }
 },
 "nbformat": 4,
 "nbformat_minor": 2
}
