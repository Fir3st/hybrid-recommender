{
 "cells": [
  {
   "cell_type": "code",
   "execution_count": 1,
   "metadata": {},
   "outputs": [],
   "source": [
    "import pandas as pd\n",
    "import numpy as np\n",
    "from sklearn.metrics.pairwise import pairwise_distances\n",
    "from sklearn.neighbors import NearestNeighbors"
   ]
  },
  {
   "cell_type": "code",
   "execution_count": 2,
   "metadata": {},
   "outputs": [],
   "source": [
    "metric = 'cosine'\n",
    "user = 1\n",
    "n = 10"
   ]
  },
  {
   "cell_type": "code",
   "execution_count": 3,
   "metadata": {},
   "outputs": [],
   "source": [
    "data = pd.read_json('../data/ratings_data.json', orient = 'split')\n",
    "n_users = data['userId'].unique().shape[0]\n",
    "n_items = data['movieId'].unique().shape[0]\n",
    "users = data['userId'].unique()\n",
    "movies = data['movieId'].unique()"
   ]
  },
  {
   "cell_type": "code",
   "execution_count": 4,
   "metadata": {},
   "outputs": [],
   "source": [
    "data_matrix = pd.DataFrame(np.zeros((n_users, n_items)), columns = movies, index = users)\n",
    "for line in data.itertuples():\n",
    "    data_matrix.at[line[4], line[1]] = line[2]"
   ]
  },
  {
   "cell_type": "code",
   "execution_count": 5,
   "metadata": {},
   "outputs": [],
   "source": [
    "user_similarity = 1 - pairwise_distances(data_matrix, metric=metric)"
   ]
  },
  {
   "cell_type": "code",
   "execution_count": 6,
   "metadata": {},
   "outputs": [],
   "source": [
    "def predict(ratings, similarity):\n",
    "    mean_user_rating = ratings.mean(axis=1)\n",
    "    ratings_diff = (ratings - mean_user_rating[:, np.newaxis])\n",
    "    pred = mean_user_rating[:, np.newaxis] + similarity.dot(ratings_diff) / np.array([np.abs(similarity).sum(axis=1)]).T\n",
    "\n",
    "    return pred"
   ]
  },
  {
   "cell_type": "code",
   "execution_count": 7,
   "metadata": {},
   "outputs": [],
   "source": [
    "user_prediction = pd.DataFrame(predict(data_matrix.values, user_similarity), columns = movies, index = users)"
   ]
  },
  {
   "cell_type": "code",
   "execution_count": 8,
   "metadata": {},
   "outputs": [],
   "source": [
    "def recommend(ratings, user, n = 10):\n",
    "    user_movies = pd.DataFrame(data_matrix.loc[user])\n",
    "    user_movies.columns = ['rating']\n",
    "    viewed_movies = user_movies[user_movies['rating'] > 0].index\n",
    "    predicted_ratings = pd.DataFrame(ratings.loc[user])\n",
    "    predicted_ratings.columns = ['rating']\n",
    "    recommended_movies = predicted_ratings.drop(viewed_movies).sort_values(['rating'], ascending=[0]).head(n).index.values\n",
    "\n",
    "    return recommended_movies"
   ]
  },
  {
   "cell_type": "code",
   "execution_count": 9,
   "metadata": {},
   "outputs": [
    {
     "data": {
      "text/plain": [
       "array([ 260,  296, 1196,  318, 1198,  593,  858, 1270,  608,  356],\n",
       "      dtype=int64)"
      ]
     },
     "execution_count": 9,
     "metadata": {},
     "output_type": "execute_result"
    }
   ],
   "source": [
    "recommend(user_prediction, user, n)"
   ]
  },
  {
   "cell_type": "code",
   "execution_count": null,
   "metadata": {},
   "outputs": [],
   "source": []
  }
 ],
 "metadata": {
  "kernelspec": {
   "display_name": "Python [default]",
   "language": "python",
   "name": "python3"
  },
  "language_info": {
   "codemirror_mode": {
    "name": "ipython",
    "version": 3
   },
   "file_extension": ".py",
   "mimetype": "text/x-python",
   "name": "python",
   "nbconvert_exporter": "python",
   "pygments_lexer": "ipython3",
   "version": "3.6.4"
  }
 },
 "nbformat": 4,
 "nbformat_minor": 2
}
