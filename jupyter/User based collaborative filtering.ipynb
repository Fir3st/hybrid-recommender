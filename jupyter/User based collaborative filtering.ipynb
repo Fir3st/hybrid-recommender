{
 "cells": [
  {
   "cell_type": "code",
   "execution_count": 1,
   "metadata": {},
   "outputs": [],
   "source": [
    "import pandas as pd\n",
    "import numpy as np\n",
    "from sklearn.metrics.pairwise import pairwise_distances\n",
    "from sklearn.neighbors import NearestNeighbors\n",
    "from sklearn.model_selection import train_test_split\n",
    "from sklearn.metrics import mean_squared_error\n",
    "from math import sqrt"
   ]
  },
  {
   "cell_type": "code",
   "execution_count": 2,
   "metadata": {},
   "outputs": [],
   "source": [
    "metric = 'cosine'\n",
    "user = 1\n",
    "n = 10"
   ]
  },
  {
   "cell_type": "code",
   "execution_count": 3,
   "metadata": {},
   "outputs": [],
   "source": [
    "data = pd.read_json('../data/ratings_data.json', orient = 'split')\n",
    "n_users = data['userId'].unique().shape[0]\n",
    "n_items = data['movieId'].unique().shape[0]\n",
    "users = data['userId'].unique()\n",
    "movies = data['movieId'].unique()"
   ]
  },
  {
   "cell_type": "code",
   "execution_count": 4,
   "metadata": {},
   "outputs": [],
   "source": [
    "train_data, test_data = train_test_split(data, test_size=0.25)"
   ]
  },
  {
   "cell_type": "code",
   "execution_count": 5,
   "metadata": {},
   "outputs": [],
   "source": [
    "train_data_matrix = pd.DataFrame(np.zeros((n_users, n_items)), columns = movies, index = users)\n",
    "for line in train_data.itertuples():\n",
    "    train_data_matrix.at[line[4], line[1]] = line[2]"
   ]
  },
  {
   "cell_type": "code",
   "execution_count": 6,
   "metadata": {},
   "outputs": [],
   "source": [
    "test_data_matrix = pd.DataFrame(np.zeros((n_users, n_items)), columns = movies, index = users)\n",
    "for line in test_data.itertuples():\n",
    "    test_data_matrix.at[line[4], line[1]] = line[2]"
   ]
  },
  {
   "cell_type": "code",
   "execution_count": 7,
   "metadata": {},
   "outputs": [],
   "source": [
    "user_similarity = 1 - pairwise_distances(train_data_matrix, metric=metric)"
   ]
  },
  {
   "cell_type": "code",
   "execution_count": 8,
   "metadata": {},
   "outputs": [],
   "source": [
    "def predict(ratings, similarity):\n",
    "    mean_user_rating = ratings.mean(axis=1)\n",
    "    ratings_diff = (ratings - mean_user_rating[:, np.newaxis])\n",
    "    pred = mean_user_rating[:, np.newaxis] + similarity.dot(ratings_diff) / np.array([np.abs(similarity).sum(axis=1)]).T\n",
    "\n",
    "    return pred"
   ]
  },
  {
   "cell_type": "code",
   "execution_count": 9,
   "metadata": {},
   "outputs": [],
   "source": [
    "user_prediction = pd.DataFrame(predict(train_data_matrix.values, user_similarity), columns = movies, index = users)"
   ]
  },
  {
   "cell_type": "code",
   "execution_count": 10,
   "metadata": {},
   "outputs": [],
   "source": [
    "def recommend(ratings, user, n = 10):\n",
    "    user_movies = pd.DataFrame(train_data_matrix.loc[user])\n",
    "    user_movies.columns = ['rating']\n",
    "    viewed_movies = user_movies[user_movies['rating'] > 0].index\n",
    "    predicted_ratings = pd.DataFrame(ratings.loc[user])\n",
    "    predicted_ratings.columns = ['rating']\n",
    "    recommended_movies = predicted_ratings.drop(viewed_movies).sort_values(['rating'], ascending=[0]).head(n).index.values\n",
    "\n",
    "    return recommended_movies"
   ]
  },
  {
   "cell_type": "code",
   "execution_count": 11,
   "metadata": {},
   "outputs": [],
   "source": [
    "def evaluate(prediction, ground_truth):\n",
    "    prediction = prediction[ground_truth.nonzero()].flatten()\n",
    "    ground_truth = ground_truth[ground_truth.nonzero()].flatten()\n",
    "\n",
    "    return sqrt(mean_squared_error(prediction, ground_truth))"
   ]
  },
  {
   "cell_type": "code",
   "execution_count": 12,
   "metadata": {},
   "outputs": [],
   "source": [
    "def get_avg_error(k=10):\n",
    "    errors = []\n",
    "\n",
    "    for i in range(k):\n",
    "        train_data, test_data = train_test_split(data, test_size=0.25)\n",
    "        \n",
    "        train_data_matrix = pd.DataFrame(np.zeros((n_users, n_items)), columns = movies, index = users)\n",
    "        for line in train_data.itertuples():\n",
    "            train_data_matrix.at[line[4], line[1]] = line[2]\n",
    "            \n",
    "        test_data_matrix = pd.DataFrame(np.zeros((n_users, n_items)), columns = movies, index = users)\n",
    "        for line in test_data.itertuples():\n",
    "            test_data_matrix.at[line[4], line[1]] = line[2]\n",
    "            \n",
    "        similarity = 1 - pairwise_distances(train_data_matrix, metric=metric)\n",
    "        prediction = pd.DataFrame(predict(train_data_matrix.values, similarity), columns = movies, index = users)\n",
    "        \n",
    "        error = evaluate(prediction.values, test_data_matrix.values)\n",
    "        \n",
    "        errors.append(round(error, 3))\n",
    "\n",
    "    return pd.DataFrame(errors, columns=['Error']), round(sum(errors) / k, 3)"
   ]
  },
  {
   "cell_type": "code",
   "execution_count": 15,
   "metadata": {},
   "outputs": [],
   "source": [
    "errors, avg_error = get_avg_error(10)"
   ]
  },
  {
   "cell_type": "code",
   "execution_count": 16,
   "metadata": {},
   "outputs": [
    {
     "name": "stdout",
     "output_type": "stream",
     "text": [
      "   Error\n",
      "0  3.176\n",
      "1  3.185\n",
      "2  3.177\n",
      "3  3.182\n",
      "4  3.176\n",
      "5  3.177\n",
      "6  3.190\n",
      "7  3.185\n",
      "8  3.173\n",
      "9  3.172\n",
      "Average error: 3.179\n"
     ]
    }
   ],
   "source": [
    "print(errors)\n",
    "print(f'Average error: {avg_error}')"
   ]
  },
  {
   "cell_type": "code",
   "execution_count": null,
   "metadata": {},
   "outputs": [],
   "source": []
  }
 ],
 "metadata": {
  "kernelspec": {
   "display_name": "Python [default]",
   "language": "python",
   "name": "python3"
  },
  "language_info": {
   "codemirror_mode": {
    "name": "ipython",
    "version": 3
   },
   "file_extension": ".py",
   "mimetype": "text/x-python",
   "name": "python",
   "nbconvert_exporter": "python",
   "pygments_lexer": "ipython3",
   "version": "3.6.4"
  }
 },
 "nbformat": 4,
 "nbformat_minor": 2
}
