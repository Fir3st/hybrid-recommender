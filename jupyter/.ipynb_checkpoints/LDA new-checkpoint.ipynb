{
 "cells": [
  {
   "cell_type": "code",
   "execution_count": 1,
   "metadata": {},
   "outputs": [],
   "source": [
    "import time\n",
    "import pandas as pd\n",
    "import warnings\n",
    "warnings.filterwarnings(action='ignore', category=UserWarning, module='gensim')\n",
    "import gensim\n",
    "from gensim import corpora, models, parsing\n",
    "from gensim.models import LdaModel\n",
    "import nltk\n",
    "import pickle\n",
    "from nltk.stem import WordNetLemmatizer\n",
    "from nltk.stem.porter import *\n",
    "import numpy as np\n",
    "from sklearn.neighbors import NearestNeighbors\n",
    "import spacy\n",
    "from spacy.lang.en import English\n",
    "import pyLDAvis.gensim"
   ]
  },
  {
   "cell_type": "code",
   "execution_count": 2,
   "metadata": {},
   "outputs": [],
   "source": [
    "parser = English()\n",
    "nltk.download('wordnet', quiet=True)\n",
    "nltk.download('stopwords', quiet=True)\n",
    "np.random.seed(2018)\n",
    "en_stop = set(nltk.corpus.stopwords.words('english'))"
   ]
  },
  {
   "cell_type": "code",
   "execution_count": 3,
   "metadata": {},
   "outputs": [],
   "source": [
    "class PandasHelper:\n",
    "\n",
    "    @staticmethod\n",
    "    def get_id_from_series(series):\n",
    "        return int(series.index.tolist()[0])"
   ]
  },
  {
   "cell_type": "code",
   "execution_count": 8,
   "metadata": {},
   "outputs": [
    {
     "name": "stdout",
     "output_type": "stream",
     "text": [
      "Start training LDA model...\n",
      "31674\n",
      "\n",
      "Note: if you're in the IPython notebook, pyLDAvis.show() is not the best command\n",
      "      to use. Consider using pyLDAvis.display(), or pyLDAvis.enable_notebook().\n",
      "      See more information at http://pyLDAvis.github.io/quickstart.html .\n",
      "\n",
      "You must interrupt the kernel to end this command\n",
      "\n",
      "Serving to http://127.0.0.1:8889/    [Ctrl-C to exit]\n"
     ]
    },
    {
     "name": "stderr",
     "output_type": "stream",
     "text": [
      "127.0.0.1 - - [17/Dec/2018 17:38:50] \"GET / HTTP/1.1\" 200 -\n",
      "127.0.0.1 - - [17/Dec/2018 17:38:50] \"GET /LDAvis.css HTTP/1.1\" 200 -\n",
      "127.0.0.1 - - [17/Dec/2018 17:38:50] \"GET /d3.js HTTP/1.1\" 200 -\n",
      "127.0.0.1 - - [17/Dec/2018 17:38:50] code 404, message Not Found\n",
      "127.0.0.1 - - [17/Dec/2018 17:38:50] \"GET /favicon.ico HTTP/1.1\" 404 -\n",
      "127.0.0.1 - - [17/Dec/2018 17:38:50] \"GET /LDAvis.js HTTP/1.1\" 200 -\n"
     ]
    },
    {
     "name": "stdout",
     "output_type": "stream",
     "text": [
      "\n",
      "stopping Server...\n"
     ]
    }
   ],
   "source": [
    "class LDAModel:\n",
    "    def __init__(self):\n",
    "        # Num_topics in LDA\n",
    "        self.num_topics = 20\n",
    "        # Filter out tokens that appear in less than `no_below`\n",
    "        self.no_below = 5\n",
    "        # Number of iterations in training LDA model, the less the documents in total, the more the iterations for LDA model to converge\n",
    "        self.num_of_iterations = 1000\n",
    "\n",
    "    def _lemmatize(self, text):\n",
    "        return WordNetLemmatizer().lemmatize(text)\n",
    "    \n",
    "    def _tokenize(self, text):\n",
    "        lda_tokens = []\n",
    "        tokens = parser(text)\n",
    "        for token in tokens:\n",
    "            if token.orth_.isspace():\n",
    "                continue\n",
    "            else:\n",
    "                lda_tokens.append(token.lower_)\n",
    "        return lda_tokens\n",
    "    \n",
    "    def _preprocess(self, text):\n",
    "        tokens = self._tokenize(text)\n",
    "        tokens = [token for token in tokens if len(token) > 4]\n",
    "        tokens = [token for token in tokens if token not in en_stop]\n",
    "        tokens = [self._lemmatize(token) for token in tokens]\n",
    "        return tokens\n",
    "    \n",
    "    def _savePickleFile(self, fileName, data):\n",
    "        fileName = f'./{fileName}.pickle'\n",
    "        mappingFile = open(fileName, 'wb')\n",
    "        pickle.dump(data, mappingFile)\n",
    "        mappingFile.close()\n",
    "\n",
    "    def saveModel(self, lda, corpus, docs_topics):\n",
    "        # Save model output\n",
    "        lda.save('./model')\n",
    "        # Save corpus\n",
    "        self._savePickleFile('corpus', corpus)\n",
    "        self._savePickleFile('docs_topics', docs_topics)\n",
    "\n",
    "    def trainModel(self):\n",
    "        data = pd.read_json('../data/movies_data.json', orient='split')\n",
    "        documents = data['content']\n",
    "        ids = data['id']\n",
    "        processed_docs = documents.map(self._preprocess)\n",
    "\n",
    "        print('Start training LDA model...')\n",
    "        dictionary = gensim.corpora.Dictionary(processed_docs)\n",
    "        print(len(dictionary))\n",
    "        dictionary.filter_extremes(no_below = self.no_below)\n",
    "        corpus = [dictionary.doc2bow(doc) for doc in processed_docs]\n",
    "        \n",
    "        lda = LdaModel(\n",
    "            corpus,\n",
    "            num_topics=self.num_topics,\n",
    "            id2word=dictionary,\n",
    "            passes=5,\n",
    "            alpha=[0.01]*self.num_topics,\n",
    "            iterations=self.num_of_iterations,\n",
    "            minimum_probability=0.0)\n",
    "        \n",
    "        # lda_display = pyLDAvis.gensim.prepare(lda, corpus, dictionary, sort_topics=False)\n",
    "        # pyLDAvis.show(lda_display)\n",
    "        \n",
    "        docs_topics = np.array([[tup[1] for tup in lst] for lst in lda[corpus]])\n",
    "        df_docs_topics = pd.DataFrame(docs_topics, index = ids)\n",
    "        \n",
    "        print('Finished training LDA model...')\n",
    "        \n",
    "        return lda, corpus, df_docs_topics\n",
    "    \n",
    "lda_model = LDAModel()\n",
    "lda, corpus, df_docs_topics = lda_model.trainModel()  # train a LDA model using the assgined corpora\n",
    "lda_model.saveModel(lda, corpus, df_docs_topics) # save model for recommendations use"
   ]
  },
  {
   "cell_type": "code",
   "execution_count": null,
   "metadata": {},
   "outputs": [],
   "source": [
    "class Recommender():\n",
    "    def __init__(self):\n",
    "        self.lda = LdaModel.load('./model')\n",
    "        self.corpus = self.loadPickleFile('./corpus')\n",
    "        self.docs_topics = self.loadPickleFile('./docs_topics')\n",
    "        self.num_of_recommendation = 10\n",
    "        \n",
    "    def loadPickleFile(self, fileName):\n",
    "        file = open(f'{fileName}.pickle','rb')\n",
    "        object_file = pickle.load(file)\n",
    "        return object_file\n",
    "    \n",
    "    def recommend(self, movie_id):\n",
    "        data = pd.read_json('../data/movies_data.json', orient='split')\n",
    "        start = time.time()\n",
    "\n",
    "        model_knn = NearestNeighbors(metric='cosine', algorithm='brute')\n",
    "        model_knn.fit(self.docs_topics)\n",
    "\n",
    "        movie_topics = self.get_movie_topics(movie_id)\n",
    "\n",
    "        if movie_topics is None:\n",
    "            return None\n",
    "\n",
    "        distances, indices = model_knn.kneighbors(movie_topics, n_neighbors=self.num_of_recommendation + 1)\n",
    "        similarities = 1 - distances.flatten()\n",
    "        similarities = similarities[1:]\n",
    "        indices = indices.flatten()\n",
    "        indices = indices[1:]\n",
    "\n",
    "        end = time.time()\n",
    "        print(f'Recommended in: {end - start} s')\n",
    "        return [{\n",
    "            'id': PandasHelper.get_id_from_series(self.docs_topics.iloc[[indices[index]]]),\n",
    "            'name': data[data['id'] == PandasHelper.get_id_from_series(self.docs_topics.iloc[[indices[index]]])].title.iloc[0],\n",
    "            'similarity': float(line)\n",
    "        } for index, line in enumerate(similarities)]\n",
    "\n",
    "    def get_movie_topics(self, movie_id):\n",
    "        movie_row = self.docs_topics[self.docs_topics.index == movie_id]\n",
    "\n",
    "        if movie_row.empty:\n",
    "            return None\n",
    "\n",
    "        row_values = movie_row.values.reshape(1, -1)\n",
    "\n",
    "        return row_values"
   ]
  },
  {
   "cell_type": "code",
   "execution_count": 6,
   "metadata": {},
   "outputs": [],
   "source": [
    "recommender = Recommender()"
   ]
  },
  {
   "cell_type": "code",
   "execution_count": 7,
   "metadata": {},
   "outputs": [
    {
     "name": "stdout",
     "output_type": "stream",
     "text": [
      "Recommended in: 0.012437582015991211 s\n"
     ]
    },
    {
     "data": {
      "text/plain": [
       "[{'id': 4544, 'name': 'Short Circuit 2', 'similarity': 0.9955089092254639},\n",
       " {'id': 7934, 'name': 'Zelig', 'similarity': 0.9879568219184875},\n",
       " {'id': 34048, 'name': 'War of the Worlds', 'similarity': 0.9875746369361877},\n",
       " {'id': 5171, 'name': 'The Time Machine', 'similarity': 0.9857283234596252},\n",
       " {'id': 5932, 'name': 'Burden of Dreams', 'similarity': 0.9830714464187622},\n",
       " {'id': 8851, 'name': 'Smile', 'similarity': 0.9789136648178101},\n",
       " {'id': 102588, 'name': 'Stories We Tell', 'similarity': 0.9771489500999451},\n",
       " {'id': 108076, 'name': 'The Other Shore', 'similarity': 0.9769874811172485},\n",
       " {'id': 2624, 'name': 'After Life', 'similarity': 0.973493754863739},\n",
       " {'id': 25744, 'name': 'HĂ¤xan', 'similarity': 0.9691869616508484}]"
      ]
     },
     "execution_count": 7,
     "metadata": {},
     "output_type": "execute_result"
    }
   ],
   "source": [
    "recommender.recommend(480)"
   ]
  },
  {
   "cell_type": "code",
   "execution_count": null,
   "metadata": {},
   "outputs": [],
   "source": []
  }
 ],
 "metadata": {
  "kernelspec": {
   "display_name": "Python [conda root]",
   "language": "python",
   "name": "conda-root-py"
  }
 },
 "nbformat": 4,
 "nbformat_minor": 2
}
