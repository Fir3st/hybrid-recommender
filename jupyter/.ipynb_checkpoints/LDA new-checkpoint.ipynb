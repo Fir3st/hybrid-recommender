{
 "cells": [
  {
   "cell_type": "code",
   "execution_count": 9,
   "metadata": {},
   "outputs": [],
   "source": [
    "import time\n",
    "import pandas as pd\n",
    "import warnings\n",
    "warnings.filterwarnings(action='ignore', category=UserWarning, module='gensim')\n",
    "import gensim\n",
    "from gensim import corpora, models, parsing\n",
    "from gensim.models import LdaModel\n",
    "import nltk\n",
    "import pickle\n",
    "from nltk.corpus import stopwords\n",
    "from nltk.stem import WordNetLemmatizer\n",
    "from nltk.stem.porter import *\n",
    "import numpy as np\n",
    "from sklearn.neighbors import NearestNeighbors"
   ]
  },
  {
   "cell_type": "code",
   "execution_count": 2,
   "metadata": {},
   "outputs": [],
   "source": [
    "nltk.download('wordnet', quiet=True)\n",
    "np.random.seed(2018)\n",
    "stemmer = PorterStemmer()"
   ]
  },
  {
   "cell_type": "code",
   "execution_count": 5,
   "metadata": {},
   "outputs": [
    {
     "name": "stdout",
     "output_type": "stream",
     "text": [
      "Start training LDA model...\n",
      "Finished training LDA model...\n"
     ]
    }
   ],
   "source": [
    "class LDAModel:\n",
    "    def __init__(self):\n",
    "        # Min length of document\n",
    "        self.min_length = 200\n",
    "        # Num_topics in LDA\n",
    "        self.num_topics = 90\n",
    "        # Filter out tokens that appear in less than `no_below` documents (absolute number)\n",
    "        self.no_below = 50\n",
    "        # Filter out tokens that appear in more than `no_above` documents (fraction of total corpus size, *not* absolute number).\n",
    "        self.no_above = 0.2\n",
    "        # Number of iterations in training LDA model, the less the documents in total, the more the iterations for LDA model to converge\n",
    "        self.num_of_iterations = 1000\n",
    "\n",
    "    def _lemmatize_stemming(self, text):\n",
    "        return stemmer.stem(WordNetLemmatizer().lemmatize(text, pos='v'))\n",
    "    \n",
    "    def _preprocess(self, text):\n",
    "        result = []\n",
    "        for token in gensim.utils.simple_preprocess(text):\n",
    "            if token not in gensim.parsing.preprocessing.STOPWORDS and len(token) > 3:\n",
    "                result.append(self._lemmatize_stemming(token))\n",
    "        return result\n",
    "    \n",
    "    def _savePickleFile(self, fileName, data):\n",
    "        fileName = f'./{fileName}.pickle'\n",
    "        mappingFile = open(fileName, 'wb')\n",
    "        pickle.dump(data, mappingFile)\n",
    "        mappingFile.close()\n",
    "\n",
    "    def saveModel(self, lda, corpus, docs_topics):\n",
    "        # Save model output\n",
    "        lda.save('./model')\n",
    "        # Save corpus\n",
    "        self._savePickleFile('corpus', corpus)\n",
    "        self._savePickleFile('docs_topics', docs_topics)\n",
    "\n",
    "    def trainModel(self):\n",
    "        data = pd.read_json('../data/movies_data.json', orient='split')\n",
    "        documents = data['content']\n",
    "        ids = data['id']\n",
    "        processed_docs = documents.map(self._preprocess)\n",
    "\n",
    "        print('Start training LDA model...')\n",
    "        dictionary = gensim.corpora.Dictionary(processed_docs)\n",
    "        dictionary.filter_extremes(no_below = self.no_below, no_above = self.no_above, keep_n = self.num_of_iterations)\n",
    "        corpus = [dictionary.doc2bow(doc) for doc in processed_docs]\n",
    "        \n",
    "        tfidf = models.TfidfModel(corpus)\n",
    "        corpus_tfidf = tfidf[corpus]\n",
    "        lda = gensim.models.ldamodel.LdaModel(corpus_tfidf, num_topics=self.num_topics, id2word=dictionary, passes=2, minimum_probability=0.0)\n",
    "        docs_topics = np.array([[tup[1] for tup in lst] for lst in lda[corpus_tfidf]])\n",
    "        df_docs_topics = pd.DataFrame(docs_topics, index = ids)\n",
    "        \n",
    "        print('Finished training LDA model...')\n",
    "        \n",
    "        return lda, corpus_tfidf, df_docs_topics\n",
    "    \n",
    "lda_model = LDAModel();\n",
    "lda, corpus_tfidf, df_docs_topics = lda_model.trainModel()  # train a LDA model using the assgined corpora\n",
    "lda_model.saveModel(lda, corpus_tfidf, df_docs_topics) # save model for recommendations use"
   ]
  },
  {
   "cell_type": "code",
   "execution_count": 19,
   "metadata": {},
   "outputs": [],
   "source": [
    "class Recommender():\n",
    "    def __init__(self):\n",
    "        self.lda = LdaModel.load('./model')\n",
    "        self.corpus = self.loadPickleFile('./corpus')\n",
    "        self.docs_topics = self.loadPickleFile('./docs_topics')\n",
    "        self.num_of_recommendation = 10\n",
    "        \n",
    "    def loadPickleFile(self, fileName):\n",
    "        file = open(f'{fileName}.pickle','rb')\n",
    "        object_file = pickle.load(file)\n",
    "        return object_file\n",
    "    \n",
    "    def recommend(self, movie_id):\n",
    "        start = time.time()\n",
    "        \n",
    "        similarities=[]\n",
    "        indices=[]\n",
    "        model_knn = NearestNeighbors(metric = 'cosine', algorithm = 'brute') \n",
    "        model_knn.fit(self.docs_topics)\n",
    "\n",
    "        distances, indices = model_knn.kneighbors(self.docs_topics.iloc[movie_id, :].values.reshape(1, -1), n_neighbors = self.num_of_recommendation + 1)\n",
    "        similarities = 1 - distances.flatten()\n",
    "        similarities = similarities[1:]\n",
    "        indices = indices.flatten()\n",
    "        indices = indices[1:]\n",
    "        \n",
    "        end = time.time()\n",
    "        print(f'Finished in: {end - start}')\n",
    "        return [{indices[index]: line} for index, line in enumerate(similarities)]"
   ]
  },
  {
   "cell_type": "code",
   "execution_count": 20,
   "metadata": {},
   "outputs": [],
   "source": [
    "recommender = Recommender()"
   ]
  },
  {
   "cell_type": "code",
   "execution_count": 21,
   "metadata": {},
   "outputs": [
    {
     "name": "stdout",
     "output_type": "stream",
     "text": [
      "0.020000457763671875\n",
      "[{130: 0.8983245}, {4403: 0.8773283}, {7392: 0.8720502}, {8451: 0.8398906}, {6478: 0.83577704}, {2368: 0.83538544}, {1361: 0.8351571}, {5225: 0.8337902}, {3239: 0.82687986}, {7758: 0.82153726}]\n"
     ]
    }
   ],
   "source": [
    "result = recommender.recommend(3)"
   ]
  },
  {
   "cell_type": "code",
   "execution_count": null,
   "metadata": {},
   "outputs": [],
   "source": [
    "result"
   ]
  }
 ],
 "metadata": {
  "kernelspec": {
   "display_name": "Python [conda root]",
   "language": "python",
   "name": "conda-root-py"
  },
  "language_info": {
   "codemirror_mode": {
    "name": "ipython",
    "version": 3
   },
   "file_extension": ".py",
   "mimetype": "text/x-python",
   "name": "python",
   "nbconvert_exporter": "python",
   "pygments_lexer": "ipython3",
   "version": "3.6.4"
  }
 },
 "nbformat": 4,
 "nbformat_minor": 2
}
