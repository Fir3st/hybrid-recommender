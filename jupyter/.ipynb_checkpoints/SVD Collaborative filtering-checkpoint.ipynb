{
 "cells": [
  {
   "cell_type": "code",
   "execution_count": 1,
   "metadata": {},
   "outputs": [],
   "source": [
    "import pandas as pd\n",
    "import numpy as np\n",
    "from scipy.sparse.linalg import svds"
   ]
  },
  {
   "cell_type": "code",
   "execution_count": 8,
   "metadata": {},
   "outputs": [],
   "source": [
    "user = 1\n",
    "n = 10"
   ]
  },
  {
   "cell_type": "code",
   "execution_count": 3,
   "metadata": {},
   "outputs": [],
   "source": [
    "data = pd.read_json('../data/ratings_data.json', orient='split')\n",
    "n_users = data['userId'].unique().shape[0]\n",
    "n_items = data['movieId'].unique().shape[0]\n",
    "users = data['userId'].unique()\n",
    "movies = data['movieId'].unique()"
   ]
  },
  {
   "cell_type": "code",
   "execution_count": 4,
   "metadata": {},
   "outputs": [],
   "source": [
    "data_matrix = pd.DataFrame(np.zeros((n_users, n_items)), columns=movies, index=users)\n",
    "for line in data.itertuples():\n",
    "    data_matrix.at[line[4], line[1]] = line[2]"
   ]
  },
  {
   "cell_type": "code",
   "execution_count": 5,
   "metadata": {},
   "outputs": [],
   "source": [
    "data_matrix_mean = np.mean(data_matrix.values, axis=1)\n",
    "data_matrix_demeaned = data_matrix.values - data_matrix_mean.reshape(-1, 1)\n",
    "U, sigma, Vt = svds(data_matrix_demeaned, k=20)\n",
    "sigma = np.diag(sigma)"
   ]
  },
  {
   "cell_type": "code",
   "execution_count": 6,
   "metadata": {},
   "outputs": [],
   "source": [
    "predicted_ratings = pd.DataFrame(np.dot(np.dot(U, sigma), Vt) + data_matrix_mean.reshape(-1, 1), columns = movies, index = users)"
   ]
  },
  {
   "cell_type": "code",
   "execution_count": 7,
   "metadata": {},
   "outputs": [],
   "source": [
    "def recommend(ratings, user, n = 10):\n",
    "    user_movies = pd.DataFrame(data_matrix.loc[user])\n",
    "    user_movies.columns = ['rating']\n",
    "    viewed_movies = user_movies[user_movies['rating'] > 0].index\n",
    "    predicted_ratings = pd.DataFrame(ratings.loc[user])\n",
    "    predicted_ratings.columns = ['rating']\n",
    "    recommended_movies = predicted_ratings.drop(viewed_movies).sort_values(['rating'], ascending=[0]).head(n).index.values\n",
    "\n",
    "    return recommended_movies"
   ]
  },
  {
   "cell_type": "code",
   "execution_count": 9,
   "metadata": {},
   "outputs": [
    {
     "data": {
      "text/plain": [
       "array([1214, 1374, 1282, 1387, 1204,  969,  913, 2987, 1252, 1262],\n",
       "      dtype=int64)"
      ]
     },
     "execution_count": 9,
     "metadata": {},
     "output_type": "execute_result"
    }
   ],
   "source": [
    "recommend(predicted_ratings, user, n)"
   ]
  },
  {
   "cell_type": "code",
   "execution_count": null,
   "metadata": {},
   "outputs": [],
   "source": []
  }
 ],
 "metadata": {
  "kernelspec": {
   "display_name": "Python [default]",
   "language": "python",
   "name": "python3"
  },
  "language_info": {
   "codemirror_mode": {
    "name": "ipython",
    "version": 3
   },
   "file_extension": ".py",
   "mimetype": "text/x-python",
   "name": "python",
   "nbconvert_exporter": "python",
   "pygments_lexer": "ipython3",
   "version": "3.6.4"
  }
 },
 "nbformat": 4,
 "nbformat_minor": 2
}
