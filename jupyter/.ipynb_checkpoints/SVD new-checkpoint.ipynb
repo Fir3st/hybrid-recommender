{
 "cells": [
  {
   "cell_type": "code",
   "execution_count": 1,
   "metadata": {},
   "outputs": [],
   "source": [
    "import os\n",
    "import time\n",
    "import math as mt\n",
    "import numpy as np\n",
    "import pandas as pd\n",
    "import pickle\n",
    "from scipy.sparse import csr_matrix\n",
    "from scipy.sparse.linalg import svds\n",
    "from sklearn.model_selection import train_test_split\n",
    "from sklearn.metrics import mean_squared_error\n",
    "from math import sqrt"
   ]
  },
  {
   "cell_type": "code",
   "execution_count": 68,
   "metadata": {},
   "outputs": [],
   "source": [
    "class SVDModel:\n",
    "    def __init__(self):\n",
    "        self.n_users = 0\n",
    "        self.n_items = 0\n",
    "\n",
    "    def load_data(self):\n",
    "        data = pd.read_json('../data/ratings_data.json', orient='split')\n",
    "        self.n_users = data['userId'].unique().shape[0]\n",
    "        self.n_items = data['movieId'].unique().shape[0]\n",
    "        self.users = data['userId'].unique()\n",
    "        self.movies = data['movieId'].unique()\n",
    "        \n",
    "        train_data, test_data = train_test_split(data, test_size=0.25)\n",
    "        \n",
    "        train_data_matrix = pd.DataFrame(np.zeros((self.n_users, self.n_items)), columns=self.movies, index=self.users)\n",
    "        for line in train_data.itertuples():\n",
    "            train_data_matrix.at[line[4], line[1]] = line[2]\n",
    "            \n",
    "        test_data_matrix = pd.DataFrame(np.zeros((self.n_users, self.n_items)), columns=self.movies, index=self.users)\n",
    "        for line in test_data.itertuples():\n",
    "            test_data_matrix.at[line[4], line[1]] = line[2]\n",
    "            \n",
    "        return csr_matrix(train_data_matrix, dtype=np.float32), test_data_matrix\n",
    "    \n",
    "    def _save_pickle_file(self, file_name, data):\n",
    "        file_name = f'./models/SVD/{file_name}.pickle'\n",
    "        mapping_file = open(file_name, 'wb')\n",
    "        pickle.dump(data, mapping_file)\n",
    "        mapping_file.close()  \n",
    "    \n",
    "    def save(self, U, sigma, Vt, data_mean):\n",
    "        if not os.path.exists('./models/SVD'):\n",
    "            os.makedirs('./models/SVD')\n",
    "        \n",
    "        self._save_pickle_file('u', U)\n",
    "        self._save_pickle_file('sigma', sigma)\n",
    "        self._save_pickle_file('vt', Vt)\n",
    "        self._save_pickle_file('data_mean', data_mean)\n",
    "    \n",
    "    def train(self, data, k):\n",
    "        data_mean = np.mean(data, axis=1)\n",
    "        data_demeaned = data - data_mean.reshape(-1, 1)\n",
    "        U, sigma, Vt = svds(data_demeaned, k=k)\n",
    "        sigma = np.diag(sigma)\n",
    "        \n",
    "        return U, sigma, Vt, data_mean"
   ]
  },
  {
   "cell_type": "code",
   "execution_count": 3,
   "metadata": {},
   "outputs": [],
   "source": [
    "class SVDRecommender:\n",
    "    def __init__(self):\n",
    "        self.U = SVDRecommender.load_pickle_file('./models/SVD/u')\n",
    "        self.sigma = SVDRecommender.load_pickle_file('./models/SVD/sigma')\n",
    "        self.Vt = SVDRecommender.load_pickle_file('./models/SVD/vt')\n",
    "        self.data_mean = SVDRecommender.load_pickle_file('./models/SVD/data_mean')\n",
    "        \n",
    "    @staticmethod\n",
    "    def load_pickle_file(file_name):\n",
    "        file = open(f'{file_name}.pickle', 'rb')\n",
    "        object_file = pickle.load(file)\n",
    "        return object_file\n",
    "    \n",
    "    def get_predicted_ratings(self):\n",
    "        data = pd.read_json('../data/ratings_data.json', orient='split')\n",
    "        users_movies = data[['movieId', 'userId']]\n",
    "        all_predicted_ratings = np.dot(np.dot(self.U, self.sigma), self.Vt) + self.data_mean.reshape(-1, 1)\n",
    "        ratings_df = pd.DataFrame(all_predicted_ratings, columns=data['movieId'].unique(), index=data['userId'].unique())\n",
    "        \n",
    "        return ratings_df, users_movies\n",
    "    \n",
    "    def recommend(self, user_id, n=10):\n",
    "        start = time.time()\n",
    "        \n",
    "        ratings_df, users_movies = self.get_predicted_ratings()\n",
    "        user_rated_movies = users_movies.loc[users_movies['userId'] == user_id]['movieId'].values\n",
    "        predicted_ratings = pd.DataFrame(ratings_df.loc[user_id])\n",
    "        predicted_ratings.columns = ['rating']\n",
    "        recommended_movies = predicted_ratings.drop(user_rated_movies).sort_values(['rating'], ascending=False).head(n)\n",
    "\n",
    "        end = time.time()\n",
    "        print(f'Finished in: {end - start}')\n",
    "        \n",
    "        return recommended_movies\n",
    "    \n",
    "    def evaluate(self, ground_truth):\n",
    "        ratings_df, users_movies = self.get_predicted_ratings()\n",
    "        prediction = ratings_df.values\n",
    "        prediction = prediction[ground_truth.nonzero()].flatten()\n",
    "        ground_truth = ground_truth[ground_truth.nonzero()].flatten()\n",
    "\n",
    "        return sqrt(mean_squared_error(prediction, ground_truth))"
   ]
  },
  {
   "cell_type": "code",
   "execution_count": 60,
   "metadata": {},
   "outputs": [],
   "source": [
    "def get_avg_error(data, k=10):\n",
    "    errors = []\n",
    "\n",
    "    for i in range(k):\n",
    "        model = SVDModel()\n",
    "        train_data, test_data = model.load_data()\n",
    "        U, sigma, Vt, data_mean = model.train(train_data, 20)\n",
    "        model.save(U, sigma, Vt, data_mean)\n",
    "        recommender = SVDRecommender()\n",
    "        \n",
    "        error = recommender.evaluate(test_data.values)\n",
    "        errors.append(round(error, 3))\n",
    "\n",
    "    return pd.DataFrame(errors, columns=['Error']), round(sum(errors) / k, 3)"
   ]
  },
  {
   "cell_type": "code",
   "execution_count": 63,
   "metadata": {},
   "outputs": [],
   "source": [
    "errors, avg_error = get_avg_error(test_data.values, 10)"
   ]
  },
  {
   "cell_type": "code",
   "execution_count": 64,
   "metadata": {},
   "outputs": [
    {
     "name": "stdout",
     "output_type": "stream",
     "text": [
      "   Error\n",
      "0  3.059\n",
      "1  3.066\n",
      "2  3.050\n",
      "3  3.057\n",
      "4  3.059\n",
      "5  3.062\n",
      "6  3.070\n",
      "7  3.057\n",
      "8  3.058\n",
      "9  3.063\n",
      "Average error: 3.06\n"
     ]
    }
   ],
   "source": [
    "print(errors)\n",
    "print(f'Average error: {avg_error}')"
   ]
  },
  {
   "cell_type": "code",
   "execution_count": 69,
   "metadata": {},
   "outputs": [],
   "source": [
    "model = SVDModel()"
   ]
  },
  {
   "cell_type": "code",
   "execution_count": 70,
   "metadata": {},
   "outputs": [
    {
     "name": "stdout",
     "output_type": "stream",
     "text": [
      "610\n",
      "9724\n",
      "100836\n"
     ]
    }
   ],
   "source": [
    "train_data, test_data = model.load_data()"
   ]
  },
  {
   "cell_type": "code",
   "execution_count": 31,
   "metadata": {},
   "outputs": [
    {
     "name": "stdout",
     "output_type": "stream",
     "text": [
      "0.22948932647705078\n"
     ]
    }
   ],
   "source": [
    "start = time.time()\n",
    "U, sigma, Vt, data_mean = model.train(train_data, 20)\n",
    "end = time.time()\n",
    "print(end - start)"
   ]
  },
  {
   "cell_type": "code",
   "execution_count": 32,
   "metadata": {},
   "outputs": [],
   "source": [
    "model.save(U, sigma, Vt, data_mean)"
   ]
  },
  {
   "cell_type": "code",
   "execution_count": 33,
   "metadata": {},
   "outputs": [],
   "source": [
    "recommender = SVDRecommender()"
   ]
  },
  {
   "cell_type": "code",
   "execution_count": null,
   "metadata": {},
   "outputs": [],
   "source": []
  }
 ],
 "metadata": {
  "kernelspec": {
   "display_name": "Python [default]",
   "language": "python",
   "name": "python3"
  },
  "language_info": {
   "codemirror_mode": {
    "name": "ipython",
    "version": 3
   },
   "file_extension": ".py",
   "mimetype": "text/x-python",
   "name": "python",
   "nbconvert_exporter": "python",
   "pygments_lexer": "ipython3",
   "version": "3.6.4"
  }
 },
 "nbformat": 4,
 "nbformat_minor": 2
}
