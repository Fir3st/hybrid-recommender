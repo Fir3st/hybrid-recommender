{
 "cells": [
  {
   "cell_type": "code",
   "execution_count": 2,
   "metadata": {},
   "outputs": [],
   "source": [
    "from sklearn.metrics.pairwise import cosine_similarity\n",
    "from scipy.sparse import coo_matrix"
   ]
  },
  {
   "cell_type": "code",
   "execution_count": 4,
   "metadata": {},
   "outputs": [],
   "source": [
    "def build(self, ratings, save=True):\n",
    "    ratings['rating'] = ratings['rating'].astype(float)\n",
    "    ratings['avg'] = ratings.groupby('user_id')['rating'].transform(lambda x: normalize(x))\n",
    "\n",
    "    ratings['avg'] = ratings['avg'].astype(float)\n",
    "    ratings['userId'] = ratings['user_id'].astype('category')\n",
    "    ratings['movieId'] = ratings['movie_id'].astype('category')\n",
    "\n",
    "    coo = coo_matrix((ratings['avg'].astype(float),\n",
    "                      (ratings['movieId'].cat.codes.copy(),\n",
    "    ratings['userId'].cat.codes.copy())))"
   ]
  },
  {
   "cell_type": "code",
   "execution_count": null,
   "metadata": {},
   "outputs": [],
   "source": []
  }
 ],
 "metadata": {
  "kernelspec": {
   "display_name": "Python [default]",
   "language": "python",
   "name": "python3"
  },
  "language_info": {
   "codemirror_mode": {
    "name": "ipython",
    "version": 3
   },
   "file_extension": ".py",
   "mimetype": "text/x-python",
   "name": "python",
   "nbconvert_exporter": "python",
   "pygments_lexer": "ipython3",
   "version": "3.6.4"
  }
 },
 "nbformat": 4,
 "nbformat_minor": 2
}
