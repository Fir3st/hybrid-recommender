{
 "cells": [
  {
   "cell_type": "code",
   "execution_count": 9,
   "metadata": {},
   "outputs": [],
   "source": [
    "import os\n",
    "import time\n",
    "import pickle\n",
    "import pandas as pd\n",
    "import numpy as np\n",
    "from sklearn.feature_extraction.text import TfidfVectorizer\n",
    "from sklearn.metrics.pairwise import cosine_similarity"
   ]
  },
  {
   "cell_type": "code",
   "execution_count": 2,
   "metadata": {},
   "outputs": [],
   "source": [
    "tf = TfidfVectorizer(analyzer='word', ngram_range=(1, 3), min_df=0, stop_words='english')"
   ]
  },
  {
   "cell_type": "code",
   "execution_count": 11,
   "metadata": {},
   "outputs": [],
   "source": [
    "class TFIDFModel:\n",
    "    def _save_pickle_file(self, file_name, data):\n",
    "        file_name = f'./models/TFIDF/{file_name}.pickle'\n",
    "        mapping_file = open(file_name, 'wb')\n",
    "        pickle.dump(data, mapping_file)\n",
    "        mapping_file.close()  \n",
    "    \n",
    "    def save(self, indices, similarities):\n",
    "        if not os.path.exists('./models/TFIDF'):\n",
    "            os.makedirs('./models/TFIDF')\n",
    "        \n",
    "        self._save_pickle_file('indices', indices)\n",
    "        self._save_pickle_file('similarities', similarities)\n",
    "    \n",
    "    @staticmethod\n",
    "    def train():\n",
    "        data = pd.read_json('../data/movies_data.json', orient='split')\n",
    "        tfidf_matrix = tf.fit_transform(data['content'])\n",
    "        cosine_similarities = cosine_similarity(tfidf_matrix, tfidf_matrix)\n",
    "        ids = data['id']\n",
    "        indices = pd.Series(data.index, index=data['id'])\n",
    "        \n",
    "        return indices, cosine_similarities"
   ]
  },
  {
   "cell_type": "code",
   "execution_count": 15,
   "metadata": {},
   "outputs": [],
   "source": [
    "class TFIDFRecommender:\n",
    "    def __init__(self):\n",
    "        self.indices = TFIDFRecommender.load_pickle_file('./models/TFIDF/indices')\n",
    "        self.similarities = TFIDFRecommender.load_pickle_file('./models/TFIDF/similarities')\n",
    "    \n",
    "    @staticmethod\n",
    "    def load_pickle_file(file_name):\n",
    "        file = open(f'{file_name}.pickle', 'rb')\n",
    "        object_file = pickle.load(file)\n",
    "        return object_file\n",
    "    \n",
    "    def recommend(self, movie_id, n=10):\n",
    "        start = time.time()\n",
    "        \n",
    "        idx = self.indices[movie_id]\n",
    "        sim_scores = list(enumerate(self.similarities[idx]))\n",
    "        sim_scores = sorted(sim_scores, key=lambda x: x[1], reverse=True)\n",
    "        sim_scores = sim_scores[1:int(n) + 1]\n",
    "        movie_indices = [i[0] for i in sim_scores]\n",
    "\n",
    "        end = time.time()\n",
    "        print(f'Finished in: {end - start}')\n",
    "        \n",
    "        return movie_indices"
   ]
  },
  {
   "cell_type": "code",
   "execution_count": 12,
   "metadata": {},
   "outputs": [],
   "source": [
    "model = TFIDFModel()\n",
    "indices, similarities = model.train()\n",
    "model.save(indices, similarities)"
   ]
  },
  {
   "cell_type": "code",
   "execution_count": 16,
   "metadata": {},
   "outputs": [
    {
     "name": "stdout",
     "output_type": "stream",
     "text": [
      "Finished in: 0.007071495056152344\n"
     ]
    },
    {
     "ename": "NameError",
     "evalue": "name 'ids' is not defined",
     "output_type": "error",
     "traceback": [
      "\u001b[1;31m---------------------------------------------------------------------------\u001b[0m",
      "\u001b[1;31mNameError\u001b[0m                                 Traceback (most recent call last)",
      "\u001b[1;32m<ipython-input-16-94b39b663335>\u001b[0m in \u001b[0;36m<module>\u001b[1;34m()\u001b[0m\n\u001b[0;32m      1\u001b[0m \u001b[0mrecommender\u001b[0m \u001b[1;33m=\u001b[0m \u001b[0mTFIDFRecommender\u001b[0m\u001b[1;33m(\u001b[0m\u001b[1;33m)\u001b[0m\u001b[1;33m\u001b[0m\u001b[0m\n\u001b[1;32m----> 2\u001b[1;33m \u001b[0mrecommender\u001b[0m\u001b[1;33m.\u001b[0m\u001b[0mrecommend\u001b[0m\u001b[1;33m(\u001b[0m\u001b[1;36m1\u001b[0m\u001b[1;33m)\u001b[0m\u001b[1;33m\u001b[0m\u001b[0m\n\u001b[0m",
      "\u001b[1;32m<ipython-input-15-a91619c40c7e>\u001b[0m in \u001b[0;36mrecommend\u001b[1;34m(self, movie_id, n)\u001b[0m\n\u001b[0;32m     22\u001b[0m         \u001b[0mprint\u001b[0m\u001b[1;33m(\u001b[0m\u001b[1;34mf'Finished in: {end - start}'\u001b[0m\u001b[1;33m)\u001b[0m\u001b[1;33m\u001b[0m\u001b[0m\n\u001b[0;32m     23\u001b[0m \u001b[1;33m\u001b[0m\u001b[0m\n\u001b[1;32m---> 24\u001b[1;33m         \u001b[1;32mreturn\u001b[0m \u001b[0mnp\u001b[0m\u001b[1;33m.\u001b[0m\u001b[0marray\u001b[0m\u001b[1;33m(\u001b[0m\u001b[0mids\u001b[0m\u001b[1;33m.\u001b[0m\u001b[0miloc\u001b[0m\u001b[1;33m[\u001b[0m\u001b[0mmovie_indices\u001b[0m\u001b[1;33m]\u001b[0m\u001b[1;33m)\u001b[0m\u001b[1;33m\u001b[0m\u001b[0m\n\u001b[0m",
      "\u001b[1;31mNameError\u001b[0m: name 'ids' is not defined"
     ]
    }
   ],
   "source": [
    "recommender = TFIDFRecommender()\n",
    "recommender.recommend(1)"
   ]
  },
  {
   "cell_type": "code",
   "execution_count": null,
   "metadata": {},
   "outputs": [],
   "source": []
  }
 ],
 "metadata": {
  "kernelspec": {
   "display_name": "Python [default]",
   "language": "python",
   "name": "python3"
  },
  "language_info": {
   "codemirror_mode": {
    "name": "ipython",
    "version": 3
   },
   "file_extension": ".py",
   "mimetype": "text/x-python",
   "name": "python",
   "nbconvert_exporter": "python",
   "pygments_lexer": "ipython3",
   "version": "3.6.4"
  }
 },
 "nbformat": 4,
 "nbformat_minor": 2
}
