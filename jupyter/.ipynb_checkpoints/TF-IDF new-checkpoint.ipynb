{
 "cells": [
  {
   "cell_type": "code",
   "execution_count": 9,
   "metadata": {},
   "outputs": [],
   "source": [
    "import os\n",
    "import time\n",
    "import pickle\n",
    "import pandas as pd\n",
    "import numpy as np\n",
    "from sklearn.feature_extraction.text import TfidfVectorizer\n",
    "from sklearn.metrics.pairwise import cosine_similarity"
   ]
  },
  {
   "cell_type": "code",
   "execution_count": 2,
   "metadata": {},
   "outputs": [],
   "source": [
    "tf = TfidfVectorizer(analyzer='word', ngram_range=(1, 3), min_df=0, stop_words='english')"
   ]
  },
  {
   "cell_type": "code",
   "execution_count": 60,
   "metadata": {},
   "outputs": [],
   "source": [
    "class TFIDFModel:\n",
    "    def _save_pickle_file(self, file_name, data):\n",
    "        file_name = f'./models/TFIDF/{file_name}.pickle'\n",
    "        mapping_file = open(file_name, 'wb')\n",
    "        pickle.dump(data, mapping_file)\n",
    "        mapping_file.close()  \n",
    "    \n",
    "    def save(self, indices, similarities):\n",
    "        if not os.path.exists('./models/TFIDF'):\n",
    "            os.makedirs('./models/TFIDF')\n",
    "        \n",
    "        self._save_pickle_file('indices', indices)\n",
    "        self._save_pickle_file('similarities', similarities)\n",
    "    \n",
    "    @staticmethod\n",
    "    def train():\n",
    "        data = pd.read_json('../data/movies_data.json', orient='split')\n",
    "        tfidf_matrix = tf.fit_transform(data['content'])\n",
    "        cosine_similarities = cosine_similarity(tfidf_matrix, tfidf_matrix)\n",
    "        ids = data['id']\n",
    "        indices = pd.Series(data.index, index=data['id'])\n",
    "        \n",
    "        return indices, cosine_similarities"
   ]
  },
  {
   "cell_type": "code",
   "execution_count": 98,
   "metadata": {},
   "outputs": [],
   "source": [
    "class TFIDFRecommender:\n",
    "    def __init__(self):\n",
    "        self.indices = TFIDFRecommender.load_pickle_file('./models/TFIDF/indices')\n",
    "        self.similarities = TFIDFRecommender.load_pickle_file('./models/TFIDF/similarities')\n",
    "    \n",
    "    @staticmethod\n",
    "    def load_pickle_file(file_name):\n",
    "        file = open(f'{file_name}.pickle', 'rb')\n",
    "        object_file = pickle.load(file)\n",
    "        return object_file\n",
    "    \n",
    "    def recommend(self, movie_id, n=10):\n",
    "        start = time.time()\n",
    "        \n",
    "        idx = self.indices[movie_id]\n",
    "        sim_scores = list(enumerate(self.similarities[idx]))\n",
    "        sim_scores = sorted(sim_scores, key=lambda x: x[1], reverse=True)\n",
    "        sim_scores = sim_scores[1:int(n) + 1]\n",
    "        movie_indices = [{str(self.indices[self.indices == i[0]].index.tolist()[0]): i[1]} for i in sim_scores]\n",
    "\n",
    "        end = time.time()\n",
    "        print(f'Finished in: {end - start}')\n",
    "        \n",
    "        return movie_indices"
   ]
  },
  {
   "cell_type": "code",
   "execution_count": 76,
   "metadata": {},
   "outputs": [],
   "source": [
    "model = TFIDFModel()\n",
    "indices, similarities = model.train()\n",
    "model.save(indices, similarities)"
   ]
  },
  {
   "cell_type": "code",
   "execution_count": 99,
   "metadata": {},
   "outputs": [
    {
     "name": "stdout",
     "output_type": "stream",
     "text": [
      "[(1309, 0.08180589587881092), (9098, 0.0723077629460714), (610, 0.04726097992985522), (8588, 0.03393704935296367), (3453, 0.030844746837884726), (992, 0.0299305717881781), (921, 0.028165307579045073), (1487, 0.027410861346845387), (7130, 0.026949944721288498), (3503, 0.02652744545102256)]\n",
      "Finished in: 0.012001752853393555\n"
     ]
    },
    {
     "data": {
      "text/plain": [
       "[{'1544': 0.08180589587881092},\n",
       " {'117529': 0.0723077629460714},\n",
       " {'1017': 0.04726097992985522},\n",
       " {'136016': 0.03393704935296367},\n",
       " {'4519': 0.030844746837884726},\n",
       " {'888': 0.0299305717881781},\n",
       " {'420': 0.028165307579045073},\n",
       " {'1396': 0.027410861346845387},\n",
       " {'69278': 0.026949944721288498},\n",
       " {'4445': 0.02652744545102256}]"
      ]
     },
     "execution_count": 99,
     "metadata": {},
     "output_type": "execute_result"
    }
   ],
   "source": [
    "recommender = TFIDFRecommender()\n",
    "recommender.recommend(480)"
   ]
  },
  {
   "cell_type": "code",
   "execution_count": null,
   "metadata": {},
   "outputs": [],
   "source": []
  }
 ],
 "metadata": {
  "kernelspec": {
   "display_name": "Python [default]",
   "language": "python",
   "name": "python3"
  },
  "language_info": {
   "codemirror_mode": {
    "name": "ipython",
    "version": 3
   },
   "file_extension": ".py",
   "mimetype": "text/x-python",
   "name": "python",
   "nbconvert_exporter": "python",
   "pygments_lexer": "ipython3",
   "version": "3.6.4"
  }
 },
 "nbformat": 4,
 "nbformat_minor": 2
}
